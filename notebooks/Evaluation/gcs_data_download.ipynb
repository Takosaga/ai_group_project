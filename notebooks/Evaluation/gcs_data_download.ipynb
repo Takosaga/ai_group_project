{
 "cells": [
  {
   "cell_type": "code",
   "execution_count": null,
   "id": "b5eb7dd8-8e79-4e7e-9372-46b171faa168",
   "metadata": {},
   "outputs": [],
   "source": [
    "import gcsfs"
    "import os"
   ]
  },
  {
   "cell_type": "code",
   "execution_count": null,
   "id": "a198a76c-4587-452b-b295-4a8a47fd2873",
   "metadata": {},
   "outputs": [],
   "source": [
    "bucket_path = \"gs://ai-group-project-data/datasets/unlabeled_data\" # GCS path to unlabeled data\n",
    "unlabeled_data_path = \"./unlabeled_data\" # Local path where unlabeled data will be saved from GCS\n",
    "bucket_path_test = \"gs://ai-group-project-data/datasets/model/test\" # GCS path to test data\n",
    "test_path = \"./test\"  # Local directory to store the test dataset"
   ]
  },
  {
   "cell_type": "code",
   "execution_count": null,
   "id": "e2225e5f-b131-4e0c-b0f6-62217b567e4f",
   "metadata": {},
   "outputs": [],
   "source": [
    "# Initialize gcsfs\n",
    "fs = gcsfs.GCSFileSystem()"
   ]
  },
  {
   "cell_type": "code",
   "execution_count": null,
   "id": "9e067dde-8dee-4b94-9366-351916be6014",
   "metadata": {},
   "outputs": [],
   "source": [
    "# Define the test set folders\n",
    "test_sets = [\"test_set_1\", \"test_set_2\", \"test_set_3\", \"test_set_4\", \"test_set_5\"]\n",
    "\n",
    "# Loop through each test set folder and download images\n",
    "for test_set in test_sets:\n",
    "    print(f\"[INFO] Downloading images for {test_set}...\")\n",
    "    gcs_folder_path = f\"{bucket_path}/{test_set}\"\n",
    "    local_folder_path = os.path.join(unlabeled_data_path, test_set)\n",
    "    \n",
    "    # Ensure local directory for the test set exists\n",
    "    os.makedirs(local_folder_path, exist_ok=True)\n",
    "    \n",
    "    # List all files in the GCS folder\n",
    "    files = fs.ls(gcs_folder_path)\n",
    "    \n",
    "    # Download each file\n",
    "    for file_path in files:\n",
    "        if file_path.endswith('/'):  # Skip subdirectories\n",
    "            continue\n",
    "        file_name = os.path.basename(file_path)\n",
    "        local_file_path = os.path.join(local_folder_path, file_name)  # Save in the correct test set folder\n",
    "        \n",
    "        # Download the file\n",
    "        with fs.open(file_path, 'rb') as src_file:\n",
    "            with open(local_file_path, 'wb') as dest_file:\n",
    "                dest_file.write(src_file.read())\n",
    "        print(f\"[INFO] Downloaded: {file_path} to {local_file_path}\")\n",
    "\n",
    "print(\"[INFO] All test sets downloaded successfully.\")"
   ]
  },
  {
   "cell_type": "code",
   "execution_count": null,
   "id": "3bbf1c2a-e3f9-4fa3-baa8-a23dc6c636d1",
   "metadata": {},
   "outputs": [],
   "source": [
    "# Count images in each folder to ensure all files are downloaded\n",
    "print(\"=== Image Counts in Each Test Set ===\")\n",
    "for test_set in test_sets:\n",
    "    folder_path = os.path.join(unlabeled_data_path, test_set)\n",
    "    \n",
    "    # Check if the folder exists\n",
    "    if not os.path.exists(folder_path):\n",
    "        print(f\"[WARNING] Folder not found: {test_set}\")\n",
    "        continue\n",
    "    \n",
    "    # List all files in the folder and count image files\n",
    "    image_files = [file for file in os.listdir(folder_path) if file.lower().endswith(('.png', '.jpg', '.jpeg', '.bmp', '.tiff'))]\n",
    "    print(f\"{test_set}: {len(image_files)} images\")"
   ]
  },
  {
   "cell_type": "code",
   "execution_count": null,
   "id": "cc09b545-8dac-498e-b662-c6e9875bd000",
   "metadata": {},
   "outputs": [],
   "source": [
    "# Define the folders to download\n",
    "folders = [\"images\", \"labels\"]\n",
    "\n",
    "# Loop through each folder and download files\n",
    "for folder in folders:\n",
    "    print(f\"[INFO] Downloading files for {folder}...\")\n",
    "    gcs_folder_path = f\"{bucket_path_test}/{folder}\"\n",
    "    local_folder_path = os.path.join(test_path, folder)\n",
    "    \n",
    "    # Ensure local directory for the folder exists\n",
    "    os.makedirs(local_folder_path, exist_ok=True)\n",
    "    \n",
    "    # List all files in the GCS folder\n",
    "    files = fs.ls(gcs_folder_path)\n",
    "    \n",
    "    # Download each file\n",
    "    for file_path in files:\n",
    "        if file_path.endswith('/'):  # Skip subdirectories\n",
    "            continue\n",
    "        file_name = os.path.basename(file_path)\n",
    "        local_file_path = os.path.join(local_folder_path, file_name)  # Save in the correct folder\n",
    "        \n",
    "        # Download the file\n",
    "        with fs.open(file_path, 'rb') as src_file:\n",
    "            with open(local_file_path, 'wb') as dest_file:\n",
    "                dest_file.write(src_file.read())\n",
    "        print(f\"[INFO] Downloaded: {file_path} to {local_file_path}\")\n",
    "\n",
    "print(\"[INFO] Dataset downloaded successfully.\")"
   ]
  },
  {
   "cell_type": "code",
   "execution_count": null,
   "id": "8ee533c1-772b-4b35-890f-d91e613e4dd1",
   "metadata": {},
   "outputs": [],
   "source": [
    "# File extensions to count\n",
    "file_extensions = {\n",
    "    \"images\": \".jpg\",\n",
    "    \"labels\": \".txt\"\n",
    "}\n",
    "\n",
    "# Count files in each folder to ensure all files are downloaded\n",
    "print(\"=== File Counts in Each Folder ===\")\n",
    "for folder in folders:\n",
    "    folder_path = os.path.join(test_path, folder)\n",
    "    \n",
    "    # Check if the folder exists\n",
    "    if not os.path.exists(folder_path):\n",
    "        print(f\"[WARNING] Folder not found: {folder}\")\n",
    "        continue\n",
    "    \n",
    "    # List and count files with the specific extension\n",
    "    extension = file_extensions[folder]\n",
    "    files = [file for file in os.listdir(folder_path) if file.lower().endswith(extension)]\n",
    "    print(f\"{folder}: {len(files)} files ({extension})\")"
   ]
  }
 ],
 "metadata": {
  "kernelspec": {
   "display_name": "Python 3 (ipykernel)",
   "language": "python",
   "name": "python3"
  },
  "language_info": {
   "codemirror_mode": {
    "name": "ipython",
    "version": 3
   },
   "file_extension": ".py",
   "mimetype": "text/x-python",
   "name": "python",
   "nbconvert_exporter": "python",
   "pygments_lexer": "ipython3",
   "version": "3.12.1"
  }
 },
 "nbformat": 4,
 "nbformat_minor": 5
}
