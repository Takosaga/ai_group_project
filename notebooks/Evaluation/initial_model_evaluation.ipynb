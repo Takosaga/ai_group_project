{
 "cells": [
  {
   "cell_type": "code",
   "execution_count": 20,
   "metadata": {
    "id": "NrjEpkXVFkq8"
   },
   "outputs": [],
   "source": [
    "import os\n",
    "import yaml\n",
    "import pandas as pd\n",
    "from ultralytics import YOLO"
   ]
  },
  {
   "cell_type": "code",
   "execution_count": 21,
   "metadata": {
    "id": "c3hUYdbHFkoE"
   },
   "outputs": [],
   "source": [
    "model_path = \"./best.pt\" # Local path where manually downloaded model from GCS is saved\n",
    "test_images_path = \"./test/images\"  # Local path to the test images folder\n",
    "test_results_path = \"./test_results\"  # Local folder for test results\n",
    "test_data_yaml = \"./test_data.yaml\"  # YAML file for test data configuration"
   ]
  },
  {
   "cell_type": "code",
   "execution_count": 22,
   "metadata": {
    "colab": {
     "base_uri": "https://localhost:8080/"
    },
    "id": "-TYiiogxFkYE",
    "outputId": "6cb7b3a9-82fd-4e84-fb45-56587b3f9fbc",
    "scrolled": true
   },
   "outputs": [
    {
     "name": "stdout",
     "output_type": "stream",
     "text": [
      "[INFO] Loading YOLO model...\n"
     ]
    }
   ],
   "source": [
    "# Initialize YOLO model\n",
    "print(\"[INFO] Loading YOLO model...\")\n",
    "model = YOLO(model_path)"
   ]
  },
  {
   "cell_type": "markdown",
   "metadata": {},
   "source": [
    "# Testing and Evaluation on Trained Model"
   ]
  },
  {
   "cell_type": "markdown",
   "metadata": {},
   "source": [
    "## Initial Testing and Saving Results"
   ]
  },
  {
   "cell_type": "code",
   "execution_count": 23,
   "metadata": {},
   "outputs": [
    {
     "name": "stdout",
     "output_type": "stream",
     "text": [
      "Starting testing on the labeled test data...\n",
      "Ultralytics 8.3.54  Python-3.12.1 torch-2.5.1+cpu CPU (Intel Core(TM) i5-9300H 2.40GHz)\n",
      "Model summary (fused): 168 layers, 3,006,233 parameters, 0 gradients, 8.1 GFLOPs\n"
     ]
    },
    {
     "name": "stderr",
     "output_type": "stream",
     "text": [
      "\u001b[34m\u001b[1mval: \u001b[0mScanning C:\\Users\\binmh\\AI group Project\\test\\labels.cache... 163 images, 0 backgrounds, 0 corrupt: 100%|█████████\u001b[0m\n",
      "                 Class     Images  Instances      Box(P          R      mAP50  mAP50-95): 100%|██████████| 11/11 [00:13\n"
     ]
    },
    {
     "name": "stdout",
     "output_type": "stream",
     "text": [
      "                   all        163        878       0.75      0.815      0.846      0.718\n",
      "                     V        162        694      0.794      0.866      0.904      0.722\n",
      "                     C         79        100      0.617      0.708      0.694      0.609\n",
      "                     S         64         84      0.839      0.871      0.942      0.823\n",
      "Speed: 1.2ms preprocess, 54.6ms inference, 0.0ms loss, 0.5ms postprocess per image\n",
      "Saving test_results\\initial_test_predictions\\predictions.json...\n",
      "Results saved to \u001b[1mtest_results\\initial_test_predictions\u001b[0m\n",
      "\n",
      "Validation completed. Check the metrics above and JSON file for detailed results.\n"
     ]
    }
   ],
   "source": [
    "# Ensure the local directory for results exists\n",
    "os.makedirs(test_results_path, exist_ok=True)\n",
    "\n",
    "# Create a temporary data.yaml for testing\n",
    "test_data_config = {\n",
    "    \"train\": None,               # Not used for testing\n",
    "    \"val\": test_images_path,     # Path to the test images\n",
    "    \"names\": {\n",
    "        0: \"V\",  # Passenger Vehicles\n",
    "        1: \"C\",  # Cargo Vehicles\n",
    "        2: \"S\"   # Buses\n",
    "    }\n",
    "}\n",
    "with open(test_data_yaml, \"w\") as yaml_file:\n",
    "    yaml.dump(test_data_config, yaml_file)\n",
    "\n",
    "print(\"Starting testing on the labeled test data...\")\n",
    "model.val(\n",
    "    data=test_data_yaml,  # Use the YAML file for test data\n",
    "    save_json=True,       # Save results in JSON format\n",
    "    save_conf=True,       # Save confidence scores\n",
    "    project=test_results_path, # Save results in the specified folder\n",
    "    name=\"initial_test_predictions\",\n",
    "    plots=True            # Enable plotting for visualization\n",
    "    )\n",
    "\n",
    "# Display validation metrics from YOLO output\n",
    "print(\"\\nValidation completed. Check the metrics above and JSON file for detailed results.\")"
   ]
  },
  {
   "cell_type": "markdown",
   "metadata": {
    "jp-MarkdownHeadingCollapsed": true
   },
   "source": [
    "## Experiment 1: Baseline IoU with varied conf"
   ]
  },
  {
   "cell_type": "code",
   "execution_count": 4,
   "metadata": {},
   "outputs": [
    {
     "name": "stdout",
     "output_type": "stream",
     "text": [
      "conf = 0.001 & iou = 0.5\n"
     ]
    },
    {
     "name": "stderr",
     "output_type": "stream",
     "text": [
      "Ultralytics YOLOv8.0.3  Python-3.12.1 torch-2.5.1+cpu CPU\n",
      "Fusing layers... \n",
      "Model summary: 168 layers, 3006233 parameters, 0 gradients, 8.1 GFLOPs\n",
      "\u001b[34m\u001b[1mval: \u001b[0mScanning C:\\Users\\binmh\\AI group Project\\test\\labels... 163 images, 0 backgrounds, 0 corrupt: 100%|██████████| 163\u001b[0m\n",
      "\u001b[34m\u001b[1mval: \u001b[0mWARNING  Cache directory C:\\Users\\binmh\\AI group Project\\test is not writeable: [WinError 183] Cannot create a file when that file already exists: 'C:\\\\Users\\\\binmh\\\\AI group Project\\\\test\\\\labels.cache.npy' -> 'C:\\\\Users\\\\binmh\\\\AI group Project\\\\test\\\\labels.cache'\n",
      "                 Class     Images  Instances      Box(P          R      mAP50  mAP50-95): 100%|██████████| 11/11 [00:14\n",
      "                   all        163        878      0.755      0.795      0.844      0.715\n",
      "                     V        163        694      0.809      0.857      0.905      0.724\n",
      "                     C        163        100      0.605       0.66       0.69      0.608\n",
      "                     S        163         84      0.851      0.869      0.938      0.814\n",
      "Speed: 1.4ms pre-process, 60.4ms inference, 0.0ms loss, 0.6ms post-process per image\n"
     ]
    }
   ],
   "source": [
    "print(\"conf = 0.001 & iou = 0.5\")\n",
    "model.val(data=test_data_yaml, conf=0.001, iou=0.5, plots=False)"
   ]
  },
  {
   "cell_type": "code",
   "execution_count": 5,
   "metadata": {},
   "outputs": [
    {
     "name": "stderr",
     "output_type": "stream",
     "text": [
      "Ultralytics YOLOv8.0.3  Python-3.12.1 torch-2.5.1+cpu CPU\n",
      "Fusing layers... \n",
      "Model summary: 168 layers, 3006233 parameters, 0 gradients, 8.1 GFLOPs\n"
     ]
    },
    {
     "name": "stdout",
     "output_type": "stream",
     "text": [
      "conf = 0.1 & iou = 0.5\n"
     ]
    },
    {
     "name": "stderr",
     "output_type": "stream",
     "text": [
      "\u001b[34m\u001b[1mval: \u001b[0mScanning C:\\Users\\binmh\\AI group Project\\test\\labels... 163 images, 0 backgrounds, 0 corrupt: 100%|██████████| 163\u001b[0m\n",
      "\u001b[34m\u001b[1mval: \u001b[0mWARNING  Cache directory C:\\Users\\binmh\\AI group Project\\test is not writeable: [WinError 183] Cannot create a file when that file already exists: 'C:\\\\Users\\\\binmh\\\\AI group Project\\\\test\\\\labels.cache.npy' -> 'C:\\\\Users\\\\binmh\\\\AI group Project\\\\test\\\\labels.cache'\n",
      "                 Class     Images  Instances      Box(P          R      mAP50  mAP50-95): 100%|██████████| 11/11 [00:15\n",
      "                   all        163        878      0.755      0.795      0.835      0.723\n",
      "                     V        163        694      0.809      0.857      0.897      0.738\n",
      "                     C        163        100      0.605       0.66      0.675      0.602\n",
      "                     S        163         84      0.851      0.869      0.933       0.83\n",
      "Speed: 1.4ms pre-process, 65.9ms inference, 0.0ms loss, 0.6ms post-process per image\n"
     ]
    }
   ],
   "source": [
    "print(\"conf = 0.1 & iou = 0.5\")\n",
    "model.val(data=test_data_yaml, conf=0.1, iou=0.5, plots=False)"
   ]
  },
  {
   "cell_type": "code",
   "execution_count": 6,
   "metadata": {},
   "outputs": [
    {
     "name": "stderr",
     "output_type": "stream",
     "text": [
      "Ultralytics YOLOv8.0.3  Python-3.12.1 torch-2.5.1+cpu CPU\n",
      "Fusing layers... \n",
      "Model summary: 168 layers, 3006233 parameters, 0 gradients, 8.1 GFLOPs\n"
     ]
    },
    {
     "name": "stdout",
     "output_type": "stream",
     "text": [
      "conf = 0.3 & iou = 0.5\n"
     ]
    },
    {
     "name": "stderr",
     "output_type": "stream",
     "text": [
      "\u001b[34m\u001b[1mval: \u001b[0mScanning C:\\Users\\binmh\\AI group Project\\test\\labels... 163 images, 0 backgrounds, 0 corrupt: 100%|██████████| 163\u001b[0m\n",
      "\u001b[34m\u001b[1mval: \u001b[0mWARNING  Cache directory C:\\Users\\binmh\\AI group Project\\test is not writeable: [WinError 183] Cannot create a file when that file already exists: 'C:\\\\Users\\\\binmh\\\\AI group Project\\\\test\\\\labels.cache.npy' -> 'C:\\\\Users\\\\binmh\\\\AI group Project\\\\test\\\\labels.cache'\n",
      "                 Class     Images  Instances      Box(P          R      mAP50  mAP50-95): 100%|██████████| 11/11 [00:14\n",
      "                   all        163        878      0.755      0.795      0.819      0.716\n",
      "                     V        163        694      0.809      0.857      0.887      0.738\n",
      "                     C        163        100      0.605       0.66      0.661      0.591\n",
      "                     S        163         84      0.851      0.869      0.908       0.82\n",
      "Speed: 1.3ms pre-process, 61.4ms inference, 0.0ms loss, 0.6ms post-process per image\n"
     ]
    }
   ],
   "source": [
    "print(\"conf = 0.3 & iou = 0.5\")\n",
    "model.val(data=test_data_yaml, conf=0.3, iou=0.5, plots=False)"
   ]
  },
  {
   "cell_type": "code",
   "execution_count": 7,
   "metadata": {},
   "outputs": [
    {
     "name": "stderr",
     "output_type": "stream",
     "text": [
      "Ultralytics YOLOv8.0.3  Python-3.12.1 torch-2.5.1+cpu CPU\n",
      "Fusing layers... \n",
      "Model summary: 168 layers, 3006233 parameters, 0 gradients, 8.1 GFLOPs\n"
     ]
    },
    {
     "name": "stdout",
     "output_type": "stream",
     "text": [
      "conf = 0.5 & iou = 0.5\n"
     ]
    },
    {
     "name": "stderr",
     "output_type": "stream",
     "text": [
      "\u001b[34m\u001b[1mval: \u001b[0mScanning C:\\Users\\binmh\\AI group Project\\test\\labels... 163 images, 0 backgrounds, 0 corrupt: 100%|██████████| 163\u001b[0m\n",
      "\u001b[34m\u001b[1mval: \u001b[0mWARNING  Cache directory C:\\Users\\binmh\\AI group Project\\test is not writeable: [WinError 183] Cannot create a file when that file already exists: 'C:\\\\Users\\\\binmh\\\\AI group Project\\\\test\\\\labels.cache.npy' -> 'C:\\\\Users\\\\binmh\\\\AI group Project\\\\test\\\\labels.cache'\n",
      "                 Class     Images  Instances      Box(P          R      mAP50  mAP50-95): 100%|██████████| 11/11 [00:15\n",
      "                   all        163        878      0.791      0.739      0.795      0.699\n",
      "                     V        163        694      0.844       0.81       0.86      0.723\n",
      "                     C        163        100      0.663       0.55      0.618      0.554\n",
      "                     S        163         84      0.867      0.857      0.907       0.82\n",
      "Speed: 1.3ms pre-process, 63.7ms inference, 0.0ms loss, 0.6ms post-process per image\n"
     ]
    }
   ],
   "source": [
    "print(\"conf = 0.5 & iou = 0.5\")\n",
    "model.val(data=test_data_yaml, conf=0.5, iou=0.5, plots=False)"
   ]
  },
  {
   "cell_type": "markdown",
   "metadata": {
    "jp-MarkdownHeadingCollapsed": true
   },
   "source": [
    "## Experiment 2: Vary IoU with fixed conf"
   ]
  },
  {
   "cell_type": "code",
   "execution_count": 8,
   "metadata": {},
   "outputs": [
    {
     "name": "stderr",
     "output_type": "stream",
     "text": [
      "Ultralytics YOLOv8.0.3  Python-3.12.1 torch-2.5.1+cpu CPU\n",
      "Fusing layers... \n",
      "Model summary: 168 layers, 3006233 parameters, 0 gradients, 8.1 GFLOPs\n"
     ]
    },
    {
     "name": "stdout",
     "output_type": "stream",
     "text": [
      "conf = 0.001 & IoU = 0.3\n"
     ]
    },
    {
     "name": "stderr",
     "output_type": "stream",
     "text": [
      "\u001b[34m\u001b[1mval: \u001b[0mScanning C:\\Users\\binmh\\AI group Project\\test\\labels... 163 images, 0 backgrounds, 0 corrupt: 100%|██████████| 163\u001b[0m\n",
      "\u001b[34m\u001b[1mval: \u001b[0mWARNING  Cache directory C:\\Users\\binmh\\AI group Project\\test is not writeable: [WinError 183] Cannot create a file when that file already exists: 'C:\\\\Users\\\\binmh\\\\AI group Project\\\\test\\\\labels.cache.npy' -> 'C:\\\\Users\\\\binmh\\\\AI group Project\\\\test\\\\labels.cache'\n",
      "                 Class     Images  Instances      Box(P          R      mAP50  mAP50-95): 100%|██████████| 11/11 [00:14\n",
      "                   all        163        878      0.753      0.788      0.839      0.711\n",
      "                     V        163        694      0.809      0.857      0.905      0.725\n",
      "                     C        163        100      0.601       0.65      0.683      0.601\n",
      "                     S        163         84      0.849      0.857       0.93      0.806\n",
      "Speed: 1.3ms pre-process, 59.9ms inference, 0.0ms loss, 0.6ms post-process per image\n"
     ]
    }
   ],
   "source": [
    "print(\"conf = 0.001 & IoU = 0.3\")\n",
    "model.val(data=test_data_yaml, conf=0.001, iou=0.3, plots=False)"
   ]
  },
  {
   "cell_type": "code",
   "execution_count": 9,
   "metadata": {},
   "outputs": [
    {
     "name": "stderr",
     "output_type": "stream",
     "text": [
      "Ultralytics YOLOv8.0.3  Python-3.12.1 torch-2.5.1+cpu CPU\n",
      "Fusing layers... \n",
      "Model summary: 168 layers, 3006233 parameters, 0 gradients, 8.1 GFLOPs\n"
     ]
    },
    {
     "name": "stdout",
     "output_type": "stream",
     "text": [
      "conf = 0.001 & IoU = 0.5\n"
     ]
    },
    {
     "name": "stderr",
     "output_type": "stream",
     "text": [
      "\u001b[34m\u001b[1mval: \u001b[0mScanning C:\\Users\\binmh\\AI group Project\\test\\labels... 163 images, 0 backgrounds, 0 corrupt: 100%|██████████| 163\u001b[0m\n",
      "\u001b[34m\u001b[1mval: \u001b[0mWARNING  Cache directory C:\\Users\\binmh\\AI group Project\\test is not writeable: [WinError 183] Cannot create a file when that file already exists: 'C:\\\\Users\\\\binmh\\\\AI group Project\\\\test\\\\labels.cache.npy' -> 'C:\\\\Users\\\\binmh\\\\AI group Project\\\\test\\\\labels.cache'\n",
      "                 Class     Images  Instances      Box(P          R      mAP50  mAP50-95): 100%|██████████| 11/11 [00:14\n",
      "                   all        163        878      0.755      0.795      0.844      0.715\n",
      "                     V        163        694      0.809      0.857      0.905      0.724\n",
      "                     C        163        100      0.605       0.66       0.69      0.608\n",
      "                     S        163         84      0.851      0.869      0.938      0.814\n",
      "Speed: 1.5ms pre-process, 62.3ms inference, 0.0ms loss, 0.6ms post-process per image\n"
     ]
    }
   ],
   "source": [
    "print(\"conf = 0.001 & IoU = 0.5\")\n",
    "model.val(data=test_data_yaml, conf=0.001, iou=0.5, plots=False)"
   ]
  },
  {
   "cell_type": "code",
   "execution_count": 10,
   "metadata": {},
   "outputs": [
    {
     "name": "stderr",
     "output_type": "stream",
     "text": [
      "Ultralytics YOLOv8.0.3  Python-3.12.1 torch-2.5.1+cpu CPU\n",
      "Fusing layers... \n",
      "Model summary: 168 layers, 3006233 parameters, 0 gradients, 8.1 GFLOPs\n"
     ]
    },
    {
     "name": "stdout",
     "output_type": "stream",
     "text": [
      "conf = 0.001 & IoU = 0.7\n"
     ]
    },
    {
     "name": "stderr",
     "output_type": "stream",
     "text": [
      "\u001b[34m\u001b[1mval: \u001b[0mScanning C:\\Users\\binmh\\AI group Project\\test\\labels... 163 images, 0 backgrounds, 0 corrupt: 100%|██████████| 163\u001b[0m\n",
      "\u001b[34m\u001b[1mval: \u001b[0mWARNING  Cache directory C:\\Users\\binmh\\AI group Project\\test is not writeable: [WinError 183] Cannot create a file when that file already exists: 'C:\\\\Users\\\\binmh\\\\AI group Project\\\\test\\\\labels.cache.npy' -> 'C:\\\\Users\\\\binmh\\\\AI group Project\\\\test\\\\labels.cache'\n",
      "                 Class     Images  Instances      Box(P          R      mAP50  mAP50-95): 100%|██████████| 11/11 [00:14\n",
      "                   all        163        878      0.754      0.795      0.843      0.716\n",
      "                     V        163        694      0.807      0.857      0.904      0.722\n",
      "                     C        163        100      0.605       0.66      0.689      0.607\n",
      "                     S        163         84      0.851      0.869      0.937      0.818\n",
      "Speed: 1.4ms pre-process, 60.1ms inference, 0.0ms loss, 0.6ms post-process per image\n"
     ]
    }
   ],
   "source": [
    "print(\"conf = 0.001 & IoU = 0.7\")\n",
    "model.val(data=test_data_yaml, conf=0.001, iou=0.7, plots=False)"
   ]
  },
  {
   "cell_type": "code",
   "execution_count": 11,
   "metadata": {},
   "outputs": [
    {
     "name": "stderr",
     "output_type": "stream",
     "text": [
      "Ultralytics YOLOv8.0.3  Python-3.12.1 torch-2.5.1+cpu CPU\n",
      "Fusing layers... \n",
      "Model summary: 168 layers, 3006233 parameters, 0 gradients, 8.1 GFLOPs\n"
     ]
    },
    {
     "name": "stdout",
     "output_type": "stream",
     "text": [
      "conf = 0.001 & IoU = 0.9\n"
     ]
    },
    {
     "name": "stderr",
     "output_type": "stream",
     "text": [
      "\u001b[34m\u001b[1mval: \u001b[0mScanning C:\\Users\\binmh\\AI group Project\\test\\labels... 163 images, 0 backgrounds, 0 corrupt: 100%|██████████| 163\u001b[0m\n",
      "\u001b[34m\u001b[1mval: \u001b[0mWARNING  Cache directory C:\\Users\\binmh\\AI group Project\\test is not writeable: [WinError 183] Cannot create a file when that file already exists: 'C:\\\\Users\\\\binmh\\\\AI group Project\\\\test\\\\labels.cache.npy' -> 'C:\\\\Users\\\\binmh\\\\AI group Project\\\\test\\\\labels.cache'\n",
      "                 Class     Images  Instances      Box(P          R      mAP50  mAP50-95): 100%|██████████| 11/11 [00:15\n",
      "                   all        163        878      0.725      0.778      0.823      0.705\n",
      "                     V        163        694      0.723      0.836      0.871      0.705\n",
      "                     C        163        100      0.627       0.63      0.675      0.595\n",
      "                     S        163         84      0.824      0.869      0.924      0.816\n",
      "Speed: 1.2ms pre-process, 62.8ms inference, 0.0ms loss, 0.6ms post-process per image\n"
     ]
    }
   ],
   "source": [
    "print(\"conf = 0.001 & IoU = 0.9\")\n",
    "model.val(data=test_data_yaml, conf=0.001, iou=0.9, plots=False)"
   ]
  },
  {
   "cell_type": "markdown",
   "metadata": {
    "jp-MarkdownHeadingCollapsed": true
   },
   "source": [
    "## Experiment 3: Combined IoU and conf variations:"
   ]
  },
  {
   "cell_type": "code",
   "execution_count": 12,
   "metadata": {},
   "outputs": [
    {
     "name": "stderr",
     "output_type": "stream",
     "text": [
      "Ultralytics YOLOv8.0.3  Python-3.12.1 torch-2.5.1+cpu CPU\n",
      "Fusing layers... \n",
      "Model summary: 168 layers, 3006233 parameters, 0 gradients, 8.1 GFLOPs\n"
     ]
    },
    {
     "name": "stdout",
     "output_type": "stream",
     "text": [
      "conf = 0.1 & iou = 0.9\n"
     ]
    },
    {
     "name": "stderr",
     "output_type": "stream",
     "text": [
      "\u001b[34m\u001b[1mval: \u001b[0mScanning C:\\Users\\binmh\\AI group Project\\test\\labels... 163 images, 0 backgrounds, 0 corrupt: 100%|██████████| 163\u001b[0m\n",
      "\u001b[34m\u001b[1mval: \u001b[0mWARNING  Cache directory C:\\Users\\binmh\\AI group Project\\test is not writeable: [WinError 183] Cannot create a file when that file already exists: 'C:\\\\Users\\\\binmh\\\\AI group Project\\\\test\\\\labels.cache.npy' -> 'C:\\\\Users\\\\binmh\\\\AI group Project\\\\test\\\\labels.cache'\n",
      "                 Class     Images  Instances      Box(P          R      mAP50  mAP50-95): 100%|██████████| 11/11 [00:15\n",
      "                   all        163        878      0.725      0.778      0.818      0.711\n",
      "                     V        163        694      0.723      0.836      0.867      0.715\n",
      "                     C        163        100      0.627       0.63      0.665      0.593\n",
      "                     S        163         84      0.824      0.869      0.922      0.825\n",
      "Speed: 1.3ms pre-process, 66.2ms inference, 0.0ms loss, 0.6ms post-process per image\n"
     ]
    }
   ],
   "source": [
    "print(\"conf = 0.1 & iou = 0.9\")\n",
    "model.val(data=test_data_yaml, conf=0.1, iou=0.9, plots=False)"
   ]
  },
  {
   "cell_type": "code",
   "execution_count": 13,
   "metadata": {},
   "outputs": [
    {
     "name": "stderr",
     "output_type": "stream",
     "text": [
      "Ultralytics YOLOv8.0.3  Python-3.12.1 torch-2.5.1+cpu CPU\n",
      "Fusing layers... \n",
      "Model summary: 168 layers, 3006233 parameters, 0 gradients, 8.1 GFLOPs\n"
     ]
    },
    {
     "name": "stdout",
     "output_type": "stream",
     "text": [
      "conf = 0.3 & iou = 0.9\n"
     ]
    },
    {
     "name": "stderr",
     "output_type": "stream",
     "text": [
      "\u001b[34m\u001b[1mval: \u001b[0mScanning C:\\Users\\binmh\\AI group Project\\test\\labels... 163 images, 0 backgrounds, 0 corrupt: 100%|██████████| 163\u001b[0m\n",
      "\u001b[34m\u001b[1mval: \u001b[0mWARNING  Cache directory C:\\Users\\binmh\\AI group Project\\test is not writeable: [WinError 183] Cannot create a file when that file already exists: 'C:\\\\Users\\\\binmh\\\\AI group Project\\\\test\\\\labels.cache.npy' -> 'C:\\\\Users\\\\binmh\\\\AI group Project\\\\test\\\\labels.cache'\n",
      "                 Class     Images  Instances      Box(P          R      mAP50  mAP50-95): 100%|██████████| 11/11 [00:15\n",
      "                   all        163        878      0.725      0.778      0.806      0.707\n",
      "                     V        163        694      0.723      0.836      0.862      0.717\n",
      "                     C        163        100      0.627       0.63      0.655      0.585\n",
      "                     S        163         84      0.824      0.869      0.902      0.817\n",
      "Speed: 1.4ms pre-process, 62.7ms inference, 0.0ms loss, 0.6ms post-process per image\n"
     ]
    }
   ],
   "source": [
    "print(\"conf = 0.3 & iou = 0.9\")\n",
    "model.val(data=test_data_yaml, conf=0.3, iou=0.9, plots=False)"
   ]
  },
  {
   "cell_type": "code",
   "execution_count": 14,
   "metadata": {},
   "outputs": [
    {
     "name": "stderr",
     "output_type": "stream",
     "text": [
      "Ultralytics YOLOv8.0.3  Python-3.12.1 torch-2.5.1+cpu CPU\n",
      "Fusing layers... \n",
      "Model summary: 168 layers, 3006233 parameters, 0 gradients, 8.1 GFLOPs\n"
     ]
    },
    {
     "name": "stdout",
     "output_type": "stream",
     "text": [
      "conf = 0.5 & iou = 0.9\n"
     ]
    },
    {
     "name": "stderr",
     "output_type": "stream",
     "text": [
      "\u001b[34m\u001b[1mval: \u001b[0mScanning C:\\Users\\binmh\\AI group Project\\test\\labels... 163 images, 0 backgrounds, 0 corrupt: 100%|██████████| 163\u001b[0m\n",
      "\u001b[34m\u001b[1mval: \u001b[0mWARNING  Cache directory C:\\Users\\binmh\\AI group Project\\test is not writeable: [WinError 183] Cannot create a file when that file already exists: 'C:\\\\Users\\\\binmh\\\\AI group Project\\\\test\\\\labels.cache.npy' -> 'C:\\\\Users\\\\binmh\\\\AI group Project\\\\test\\\\labels.cache'\n",
      "                 Class     Images  Instances      Box(P          R      mAP50  mAP50-95): 100%|██████████| 11/11 [00:15\n",
      "                   all        163        878      0.814      0.702      0.786      0.693\n",
      "                     V        163        694      0.791      0.756      0.841      0.707\n",
      "                     C        163        100      0.771      0.504      0.616      0.552\n",
      "                     S        163         84       0.88      0.845      0.902      0.819\n",
      "Speed: 1.3ms pre-process, 63.1ms inference, 0.0ms loss, 0.6ms post-process per image\n"
     ]
    }
   ],
   "source": [
    "print(\"conf = 0.5 & iou = 0.9\")\n",
    "model.val(data=test_data_yaml, conf=0.5, iou=0.9, plots=False)"
   ]
  },
  {
   "cell_type": "code",
   "execution_count": 15,
   "metadata": {},
   "outputs": [
    {
     "name": "stderr",
     "output_type": "stream",
     "text": [
      "Ultralytics YOLOv8.0.3  Python-3.12.1 torch-2.5.1+cpu CPU\n",
      "Fusing layers... \n",
      "Model summary: 168 layers, 3006233 parameters, 0 gradients, 8.1 GFLOPs\n"
     ]
    },
    {
     "name": "stdout",
     "output_type": "stream",
     "text": [
      "conf = 0.1 & iou = 0.3\n"
     ]
    },
    {
     "name": "stderr",
     "output_type": "stream",
     "text": [
      "\u001b[34m\u001b[1mval: \u001b[0mScanning C:\\Users\\binmh\\AI group Project\\test\\labels... 163 images, 0 backgrounds, 0 corrupt: 100%|██████████| 163\u001b[0m\n",
      "\u001b[34m\u001b[1mval: \u001b[0mWARNING  Cache directory C:\\Users\\binmh\\AI group Project\\test is not writeable: [WinError 183] Cannot create a file when that file already exists: 'C:\\\\Users\\\\binmh\\\\AI group Project\\\\test\\\\labels.cache.npy' -> 'C:\\\\Users\\\\binmh\\\\AI group Project\\\\test\\\\labels.cache'\n",
      "                 Class     Images  Instances      Box(P          R      mAP50  mAP50-95): 100%|██████████| 11/11 [00:13\n",
      "                   all        163        878      0.753      0.788      0.831       0.72\n",
      "                     V        163        694      0.809      0.857      0.897      0.738\n",
      "                     C        163        100      0.601       0.65      0.669      0.597\n",
      "                     S        163         84      0.849      0.857      0.926      0.825\n",
      "Speed: 1.4ms pre-process, 56.0ms inference, 0.0ms loss, 0.4ms post-process per image\n"
     ]
    }
   ],
   "source": [
    "print(\"conf = 0.1 & iou = 0.3\")\n",
    "model.val(data=test_data_yaml, conf=0.1, iou=0.3, plots=False)"
   ]
  },
  {
   "cell_type": "code",
   "execution_count": 16,
   "metadata": {},
   "outputs": [
    {
     "name": "stderr",
     "output_type": "stream",
     "text": [
      "Ultralytics YOLOv8.0.3  Python-3.12.1 torch-2.5.1+cpu CPU\n",
      "Fusing layers... \n",
      "Model summary: 168 layers, 3006233 parameters, 0 gradients, 8.1 GFLOPs\n"
     ]
    },
    {
     "name": "stdout",
     "output_type": "stream",
     "text": [
      "conf = 0.3 & iou = 0.3\n"
     ]
    },
    {
     "name": "stderr",
     "output_type": "stream",
     "text": [
      "\u001b[34m\u001b[1mval: \u001b[0mScanning C:\\Users\\binmh\\AI group Project\\test\\labels... 163 images, 0 backgrounds, 0 corrupt: 100%|██████████| 163\u001b[0m\n",
      "\u001b[34m\u001b[1mval: \u001b[0mWARNING  Cache directory C:\\Users\\binmh\\AI group Project\\test is not writeable: [WinError 183] Cannot create a file when that file already exists: 'C:\\\\Users\\\\binmh\\\\AI group Project\\\\test\\\\labels.cache.npy' -> 'C:\\\\Users\\\\binmh\\\\AI group Project\\\\test\\\\labels.cache'\n",
      "                 Class     Images  Instances      Box(P          R      mAP50  mAP50-95): 100%|██████████| 11/11 [00:14\n",
      "                   all        163        878      0.753      0.788      0.815      0.713\n",
      "                     V        163        694      0.809      0.857      0.887      0.738\n",
      "                     C        163        100      0.601       0.65      0.657      0.587\n",
      "                     S        163         84      0.849      0.857      0.902      0.814\n",
      "Speed: 1.3ms pre-process, 61.0ms inference, 0.0ms loss, 0.6ms post-process per image\n"
     ]
    }
   ],
   "source": [
    "print(\"conf = 0.3 & iou = 0.3\")\n",
    "model.val(data=test_data_yaml, conf=0.3, iou=0.3, plots=False)"
   ]
  },
  {
   "cell_type": "code",
   "execution_count": 17,
   "metadata": {},
   "outputs": [
    {
     "name": "stderr",
     "output_type": "stream",
     "text": [
      "Ultralytics YOLOv8.0.3  Python-3.12.1 torch-2.5.1+cpu CPU\n",
      "Fusing layers... \n",
      "Model summary: 168 layers, 3006233 parameters, 0 gradients, 8.1 GFLOPs\n"
     ]
    },
    {
     "name": "stdout",
     "output_type": "stream",
     "text": [
      "conf = 0.5 & iou = 0.3\n"
     ]
    },
    {
     "name": "stderr",
     "output_type": "stream",
     "text": [
      "\u001b[34m\u001b[1mval: \u001b[0mScanning C:\\Users\\binmh\\AI group Project\\test\\labels... 163 images, 0 backgrounds, 0 corrupt: 100%|██████████| 163\u001b[0m\n",
      "\u001b[34m\u001b[1mval: \u001b[0mWARNING  Cache directory C:\\Users\\binmh\\AI group Project\\test is not writeable: [WinError 183] Cannot create a file when that file already exists: 'C:\\\\Users\\\\binmh\\\\AI group Project\\\\test\\\\labels.cache.npy' -> 'C:\\\\Users\\\\binmh\\\\AI group Project\\\\test\\\\labels.cache'\n",
      "                 Class     Images  Instances      Box(P          R      mAP50  mAP50-95): 100%|██████████| 11/11 [00:13\n",
      "                   all        163        878      0.837      0.702      0.791      0.696\n",
      "                     V        163        694      0.869      0.764       0.86      0.723\n",
      "                     C        163        100      0.747       0.51      0.613       0.55\n",
      "                     S        163         84      0.896      0.833      0.901      0.814\n",
      "Speed: 1.3ms pre-process, 53.4ms inference, 0.0ms loss, 0.6ms post-process per image\n"
     ]
    }
   ],
   "source": [
    "print(\"conf = 0.5 & iou = 0.3\")\n",
    "model.val(data=test_data_yaml, conf=0.5, iou=0.3, plots=False)"
   ]
  },
  {
   "cell_type": "code",
   "execution_count": 18,
   "metadata": {},
   "outputs": [
    {
     "name": "stderr",
     "output_type": "stream",
     "text": [
      "Ultralytics YOLOv8.0.3  Python-3.12.1 torch-2.5.1+cpu CPU\n",
      "Fusing layers... \n",
      "Model summary: 168 layers, 3006233 parameters, 0 gradients, 8.1 GFLOPs\n"
     ]
    },
    {
     "name": "stdout",
     "output_type": "stream",
     "text": [
      "conf = 0.1 & iou = 0.7\n"
     ]
    },
    {
     "name": "stderr",
     "output_type": "stream",
     "text": [
      "\u001b[34m\u001b[1mval: \u001b[0mScanning C:\\Users\\binmh\\AI group Project\\test\\labels... 163 images, 0 backgrounds, 0 corrupt: 100%|██████████| 163\u001b[0m\n",
      "\u001b[34m\u001b[1mval: \u001b[0mWARNING  Cache directory C:\\Users\\binmh\\AI group Project\\test is not writeable: [WinError 183] Cannot create a file when that file already exists: 'C:\\\\Users\\\\binmh\\\\AI group Project\\\\test\\\\labels.cache.npy' -> 'C:\\\\Users\\\\binmh\\\\AI group Project\\\\test\\\\labels.cache'\n",
      "                 Class     Images  Instances      Box(P          R      mAP50  mAP50-95): 100%|██████████| 11/11 [00:14\n",
      "                   all        163        878      0.754      0.795      0.834      0.723\n",
      "                     V        163        694      0.807      0.857      0.896      0.737\n",
      "                     C        163        100      0.605       0.66      0.675      0.602\n",
      "                     S        163         84      0.851      0.869      0.933       0.83\n",
      "Speed: 1.3ms pre-process, 60.6ms inference, 0.0ms loss, 0.5ms post-process per image\n"
     ]
    }
   ],
   "source": [
    "print(\"conf = 0.1 & iou = 0.7\")\n",
    "model.val(data=test_data_yaml, conf=0.1, iou=0.7, plots=False)"
   ]
  },
  {
   "cell_type": "code",
   "execution_count": 19,
   "metadata": {},
   "outputs": [
    {
     "name": "stderr",
     "output_type": "stream",
     "text": [
      "Ultralytics YOLOv8.0.3  Python-3.12.1 torch-2.5.1+cpu CPU\n",
      "Fusing layers... \n",
      "Model summary: 168 layers, 3006233 parameters, 0 gradients, 8.1 GFLOPs\n"
     ]
    },
    {
     "name": "stdout",
     "output_type": "stream",
     "text": [
      "conf = 0.3 & iou = 0.7\n"
     ]
    },
    {
     "name": "stderr",
     "output_type": "stream",
     "text": [
      "\u001b[34m\u001b[1mval: \u001b[0mScanning C:\\Users\\binmh\\AI group Project\\test\\labels... 163 images, 0 backgrounds, 0 corrupt: 100%|██████████| 163\u001b[0m\n",
      "\u001b[34m\u001b[1mval: \u001b[0mWARNING  Cache directory C:\\Users\\binmh\\AI group Project\\test is not writeable: [WinError 183] Cannot create a file when that file already exists: 'C:\\\\Users\\\\binmh\\\\AI group Project\\\\test\\\\labels.cache.npy' -> 'C:\\\\Users\\\\binmh\\\\AI group Project\\\\test\\\\labels.cache'\n",
      "                 Class     Images  Instances      Box(P          R      mAP50  mAP50-95): 100%|██████████| 11/11 [00:14\n",
      "                   all        163        878      0.754      0.795      0.819      0.716\n",
      "                     V        163        694      0.807      0.857      0.887      0.737\n",
      "                     C        163        100      0.605       0.66      0.661      0.591\n",
      "                     S        163         84      0.851      0.869      0.908       0.82\n",
      "Speed: 1.3ms pre-process, 60.4ms inference, 0.0ms loss, 0.6ms post-process per image\n"
     ]
    }
   ],
   "source": [
    "print(\"conf = 0.3 & iou = 0.7\")\n",
    "model.val(data=test_data_yaml, conf=0.3, iou=0.7, plots=False)"
   ]
  },
  {
   "cell_type": "code",
   "execution_count": 20,
   "metadata": {},
   "outputs": [
    {
     "name": "stderr",
     "output_type": "stream",
     "text": [
      "Ultralytics YOLOv8.0.3  Python-3.12.1 torch-2.5.1+cpu CPU\n",
      "Fusing layers... \n",
      "Model summary: 168 layers, 3006233 parameters, 0 gradients, 8.1 GFLOPs\n"
     ]
    },
    {
     "name": "stdout",
     "output_type": "stream",
     "text": [
      "conf = 0.5 & iou = 0.7\n"
     ]
    },
    {
     "name": "stderr",
     "output_type": "stream",
     "text": [
      "\u001b[34m\u001b[1mval: \u001b[0mScanning C:\\Users\\binmh\\AI group Project\\test\\labels... 163 images, 0 backgrounds, 0 corrupt: 100%|██████████| 163\u001b[0m\n",
      "\u001b[34m\u001b[1mval: \u001b[0mWARNING  Cache directory C:\\Users\\binmh\\AI group Project\\test is not writeable: [WinError 183] Cannot create a file when that file already exists: 'C:\\\\Users\\\\binmh\\\\AI group Project\\\\test\\\\labels.cache.npy' -> 'C:\\\\Users\\\\binmh\\\\AI group Project\\\\test\\\\labels.cache'\n",
      "                 Class     Images  Instances      Box(P          R      mAP50  mAP50-95): 100%|██████████| 11/11 [00:15\n",
      "                   all        163        878       0.79      0.739      0.795      0.699\n",
      "                     V        163        694      0.841       0.81      0.859      0.722\n",
      "                     C        163        100      0.663       0.55      0.618      0.554\n",
      "                     S        163         84      0.867      0.857      0.907       0.82\n",
      "Speed: 1.3ms pre-process, 64.9ms inference, 0.0ms loss, 0.7ms post-process per image\n"
     ]
    }
   ],
   "source": [
    "print(\"conf = 0.5 & iou = 0.7\")\n",
    "model.val(data=test_data_yaml, conf=0.5, iou=0.7, plots=False)"
   ]
  },
  {
   "cell_type": "markdown",
   "metadata": {
    "jp-MarkdownHeadingCollapsed": true
   },
   "source": [
    "# Function to automate saving all reults to csv file ( does not work with ultralytics 8.0.3 upgrade to latest version)"
   ]
  },
  {
   "cell_type": "code",
   "execution_count": 7,
   "metadata": {},
   "outputs": [],
   "source": [
    "def evaluate_and_save_metrics(model, test_data_yaml, conf_values, iou_values, output_dir):\n",
    "    # Initialize lists for metrics\n",
    "    metrics_all = []\n",
    "    metrics_v = []\n",
    "    metrics_c = []\n",
    "    metrics_s = []\n",
    "\n",
    "    # Iterate over all combinations of confidence and IoU thresholds\n",
    "    for conf in conf_values:\n",
    "        for iou in iou_values:\n",
    "            print(f\"Evaluating: conf = {conf}, IoU = {iou}\")\n",
    "            \n",
    "            # Run model evaluation\n",
    "            metrics = model.val(data=test_data_yaml, conf=conf, iou=iou, plots=False)\n",
    "\n",
    "            # Access overall mean results\n",
    "            mean_results = metrics.mean_results()  # Precision, recall, mAP@50, mAP@50-95\n",
    "            metrics_all.append({\n",
    "                \"iou\": iou,\n",
    "                \"conf\": conf,\n",
    "                \"p\": mean_results[0],  # Precision\n",
    "                \"r\": mean_results[1],  # Recall\n",
    "                \"map50\": mean_results[2],  # mAP@50\n",
    "                \"map50-95\": mean_results[3]  # mAP@50-95\n",
    "            })\n",
    "\n",
    "            # Access per-class metrics\n",
    "            for class_idx, metrics_list in zip(\n",
    "                [0, 1, 2], [metrics_v, metrics_c, metrics_s]\n",
    "            ):\n",
    "                class_results = metrics.class_result(class_idx)  # Get metrics for a specific class\n",
    "                metrics_list.append({\n",
    "                    \"iou\": iou,\n",
    "                    \"conf\": conf,\n",
    "                    \"p\": class_results[0],  # Precision for the class\n",
    "                    \"r\": class_results[1],  # Recall for the class\n",
    "                    \"map50\": class_results[2],  # mAP@50 for the class\n",
    "                    \"map50-95\": class_results[3]  # mAP@50-95 for the class\n",
    "                })\n",
    "\n",
    "    # Create DataFrames\n",
    "    df_all = pd.DataFrame(metrics_all)\n",
    "    df_v = pd.DataFrame(metrics_v)\n",
    "    df_c = pd.DataFrame(metrics_c)\n",
    "    df_s = pd.DataFrame(metrics_s)\n",
    "\n",
    "    # Save DataFrames to CSV files\n",
    "    df_all.to_csv(f\"{output_dir}/metrics_all.csv\", index=False)\n",
    "    df_v.to_csv(f\"{output_dir}/metrics_v.csv\", index=False)\n",
    "    df_c.to_csv(f\"{output_dir}/metrics_c.csv\", index=False)\n",
    "    df_s.to_csv(f\"{output_dir}/metrics_s.csv\", index=False)\n",
    "\n",
    "    print(\"All metrics saved successfully.\")"
   ]
  },
  {
   "cell_type": "code",
   "execution_count": 8,
   "metadata": {},
   "outputs": [
    {
     "name": "stdout",
     "output_type": "stream",
     "text": [
      "Evaluating: conf = 0.001, IoU = 0.3\n",
      "Ultralytics 8.3.54  Python-3.12.1 torch-2.5.1+cpu CPU (Intel Core(TM) i5-9300H 2.40GHz)\n"
     ]
    },
    {
     "name": "stderr",
     "output_type": "stream",
     "text": [
      "\u001b[34m\u001b[1mval: \u001b[0mScanning C:\\Users\\binmh\\AI group Project\\test\\labels.cache... 163 images, 0 backgrounds, 0 corrupt: 100%|█████████\u001b[0m\n",
      "                 Class     Images  Instances      Box(P          R      mAP50  mAP50-95): 100%|██████████| 11/11 [00:20"
     ]
    },
    {
     "name": "stdout",
     "output_type": "stream",
     "text": [
      "                   all        163        878       0.75      0.805      0.843      0.713\n",
      "                     V        162        694        0.8      0.866      0.907      0.725\n",
      "                     C         79        100      0.612      0.693      0.688      0.605\n",
      "                     S         64         84      0.837      0.858      0.935      0.809\n",
      "Speed: 1.4ms preprocess, 75.8ms inference, 0.0ms loss, 1.2ms postprocess per image\n",
      "Evaluating: conf = 0.001, IoU = 0.5\n",
      "Ultralytics 8.3.54  Python-3.12.1 torch-2.5.1+cpu CPU (Intel Core(TM) i5-9300H 2.40GHz)\n"
     ]
    },
    {
     "name": "stderr",
     "output_type": "stream",
     "text": [
      "\n",
      "\u001b[34m\u001b[1mval: \u001b[0mScanning C:\\Users\\binmh\\AI group Project\\test\\labels.cache... 163 images, 0 backgrounds, 0 corrupt: 100%|█████████\u001b[0m\n",
      "                 Class     Images  Instances      Box(P          R      mAP50  mAP50-95): 100%|██████████| 11/11 [00:20"
     ]
    },
    {
     "name": "stdout",
     "output_type": "stream",
     "text": [
      "                   all        163        878      0.752      0.815      0.848      0.717\n",
      "                     V        162        694      0.799      0.866      0.906      0.724\n",
      "                     C         79        100      0.617      0.708      0.694      0.609\n",
      "                     S         64         84      0.839      0.871      0.942      0.818\n",
      "Speed: 1.3ms preprocess, 74.6ms inference, 0.0ms loss, 1.1ms postprocess per image\n",
      "Evaluating: conf = 0.001, IoU = 0.7\n",
      "Ultralytics 8.3.54  Python-3.12.1 torch-2.5.1+cpu CPU (Intel Core(TM) i5-9300H 2.40GHz)\n"
     ]
    },
    {
     "name": "stderr",
     "output_type": "stream",
     "text": [
      "\n",
      "\u001b[34m\u001b[1mval: \u001b[0mScanning C:\\Users\\binmh\\AI group Project\\test\\labels.cache... 163 images, 0 backgrounds, 0 corrupt: 100%|█████████\u001b[0m\n",
      "                 Class     Images  Instances      Box(P          R      mAP50  mAP50-95): 100%|██████████| 11/11 [00:20"
     ]
    },
    {
     "name": "stdout",
     "output_type": "stream",
     "text": [
      "                   all        163        878       0.75      0.815      0.846      0.718\n",
      "                     V        162        694      0.794      0.866      0.904      0.722\n",
      "                     C         79        100      0.617      0.708      0.694      0.609\n",
      "                     S         64         84      0.839      0.871      0.942      0.823\n",
      "Speed: 1.4ms preprocess, 78.4ms inference, 0.0ms loss, 1.1ms postprocess per image\n",
      "Evaluating: conf = 0.001, IoU = 0.9\n",
      "Ultralytics 8.3.54  Python-3.12.1 torch-2.5.1+cpu CPU (Intel Core(TM) i5-9300H 2.40GHz)\n"
     ]
    },
    {
     "name": "stderr",
     "output_type": "stream",
     "text": [
      "\n",
      "\u001b[34m\u001b[1mval: \u001b[0mScanning C:\\Users\\binmh\\AI group Project\\test\\labels.cache... 163 images, 0 backgrounds, 0 corrupt: 100%|█████████\u001b[0m\n",
      "                 Class     Images  Instances      Box(P          R      mAP50  mAP50-95): 100%|██████████| 11/11 [00:20"
     ]
    },
    {
     "name": "stdout",
     "output_type": "stream",
     "text": [
      "                   all        163        878      0.723      0.781      0.827      0.709\n",
      "                     V        162        694      0.727       0.84      0.873      0.706\n",
      "                     C         79        100        0.6      0.646      0.682      0.601\n",
      "                     S         64         84      0.841      0.857      0.927      0.821\n",
      "Speed: 1.3ms preprocess, 76.8ms inference, 0.0ms loss, 1.2ms postprocess per image\n",
      "Evaluating: conf = 0.1, IoU = 0.3\n",
      "Ultralytics 8.3.54  Python-3.12.1 torch-2.5.1+cpu CPU (Intel Core(TM) i5-9300H 2.40GHz)\n"
     ]
    },
    {
     "name": "stderr",
     "output_type": "stream",
     "text": [
      "\n",
      "\u001b[34m\u001b[1mval: \u001b[0mScanning C:\\Users\\binmh\\AI group Project\\test\\labels.cache... 163 images, 0 backgrounds, 0 corrupt: 100%|█████████\u001b[0m\n",
      "                 Class     Images  Instances      Box(P          R      mAP50  mAP50-95): 100%|██████████| 11/11 [00:20"
     ]
    },
    {
     "name": "stdout",
     "output_type": "stream",
     "text": [
      "                   all        163        878       0.75      0.805      0.833      0.721\n",
      "                     V        162        694        0.8      0.866      0.899       0.74\n",
      "                     C         79        100      0.612      0.693      0.669      0.596\n",
      "                     S         64         84      0.837      0.858      0.931      0.829\n",
      "Speed: 1.3ms preprocess, 78.6ms inference, 0.0ms loss, 0.9ms postprocess per image\n",
      "Evaluating: conf = 0.1, IoU = 0.5\n",
      "Ultralytics 8.3.54  Python-3.12.1 torch-2.5.1+cpu CPU (Intel Core(TM) i5-9300H 2.40GHz)\n"
     ]
    },
    {
     "name": "stderr",
     "output_type": "stream",
     "text": [
      "\n",
      "\u001b[34m\u001b[1mval: \u001b[0mScanning C:\\Users\\binmh\\AI group Project\\test\\labels.cache... 163 images, 0 backgrounds, 0 corrupt: 100%|█████████\u001b[0m\n",
      "                 Class     Images  Instances      Box(P          R      mAP50  mAP50-95): 100%|██████████| 11/11 [00:20"
     ]
    },
    {
     "name": "stdout",
     "output_type": "stream",
     "text": [
      "                   all        163        878      0.752      0.815      0.837      0.724\n",
      "                     V        162        694      0.799      0.866      0.899       0.74\n",
      "                     C         79        100      0.617      0.708      0.674      0.599\n",
      "                     S         64         84      0.839      0.871      0.937      0.834\n",
      "Speed: 1.3ms preprocess, 77.7ms inference, 0.0ms loss, 1.0ms postprocess per image\n",
      "Evaluating: conf = 0.1, IoU = 0.7\n",
      "Ultralytics 8.3.54  Python-3.12.1 torch-2.5.1+cpu CPU (Intel Core(TM) i5-9300H 2.40GHz)\n"
     ]
    },
    {
     "name": "stderr",
     "output_type": "stream",
     "text": [
      "\n",
      "\u001b[34m\u001b[1mval: \u001b[0mScanning C:\\Users\\binmh\\AI group Project\\test\\labels.cache... 163 images, 0 backgrounds, 0 corrupt: 100%|█████████\u001b[0m\n",
      "                 Class     Images  Instances      Box(P          R      mAP50  mAP50-95): 100%|██████████| 11/11 [00:20"
     ]
    },
    {
     "name": "stdout",
     "output_type": "stream",
     "text": [
      "                   all        163        878       0.75      0.815      0.836      0.724\n",
      "                     V        162        694      0.794      0.866      0.898      0.739\n",
      "                     C         79        100      0.617      0.708      0.674      0.599\n",
      "                     S         64         84      0.839      0.871      0.937      0.834\n",
      "Speed: 1.2ms preprocess, 75.6ms inference, 0.0ms loss, 1.0ms postprocess per image\n",
      "Evaluating: conf = 0.1, IoU = 0.9\n",
      "Ultralytics 8.3.54  Python-3.12.1 torch-2.5.1+cpu CPU (Intel Core(TM) i5-9300H 2.40GHz)\n"
     ]
    },
    {
     "name": "stderr",
     "output_type": "stream",
     "text": [
      "\n",
      "\u001b[34m\u001b[1mval: \u001b[0mScanning C:\\Users\\binmh\\AI group Project\\test\\labels.cache... 163 images, 0 backgrounds, 0 corrupt: 100%|█████████\u001b[0m\n",
      "                 Class     Images  Instances      Box(P          R      mAP50  mAP50-95): 100%|██████████| 11/11 [00:19"
     ]
    },
    {
     "name": "stdout",
     "output_type": "stream",
     "text": [
      "                   all        163        878      0.723      0.781       0.82      0.713\n",
      "                     V        162        694      0.727       0.84       0.87      0.717\n",
      "                     C         79        100        0.6      0.646      0.666      0.594\n",
      "                     S         64         84      0.841      0.857      0.925      0.829\n",
      "Speed: 1.5ms preprocess, 74.3ms inference, 0.0ms loss, 1.2ms postprocess per image\n",
      "Evaluating: conf = 0.3, IoU = 0.3\n",
      "Ultralytics 8.3.54  Python-3.12.1 torch-2.5.1+cpu CPU (Intel Core(TM) i5-9300H 2.40GHz)\n"
     ]
    },
    {
     "name": "stderr",
     "output_type": "stream",
     "text": [
      "\n",
      "\u001b[34m\u001b[1mval: \u001b[0mScanning C:\\Users\\binmh\\AI group Project\\test\\labels.cache... 163 images, 0 backgrounds, 0 corrupt: 100%|█████████\u001b[0m\n",
      "                 Class     Images  Instances      Box(P          R      mAP50  mAP50-95): 100%|██████████| 11/11 [00:20"
     ]
    },
    {
     "name": "stdout",
     "output_type": "stream",
     "text": [
      "                   all        163        878       0.75      0.805      0.819      0.716\n",
      "                     V        162        694        0.8      0.866      0.883      0.736\n",
      "                     C         79        100      0.612      0.693      0.661      0.591\n",
      "                     S         64         84      0.837      0.858      0.911      0.821\n",
      "Speed: 1.2ms preprocess, 76.2ms inference, 0.0ms loss, 0.9ms postprocess per image\n",
      "Evaluating: conf = 0.3, IoU = 0.5\n",
      "Ultralytics 8.3.54  Python-3.12.1 torch-2.5.1+cpu CPU (Intel Core(TM) i5-9300H 2.40GHz)\n"
     ]
    },
    {
     "name": "stderr",
     "output_type": "stream",
     "text": [
      "\n",
      "\u001b[34m\u001b[1mval: \u001b[0mScanning C:\\Users\\binmh\\AI group Project\\test\\labels.cache... 163 images, 0 backgrounds, 0 corrupt: 100%|█████████\u001b[0m\n",
      "                 Class     Images  Instances      Box(P          R      mAP50  mAP50-95): 100%|██████████| 11/11 [00:19"
     ]
    },
    {
     "name": "stdout",
     "output_type": "stream",
     "text": [
      "                   all        163        878      0.748      0.817      0.822      0.719\n",
      "                     V        162        694      0.798      0.867      0.883      0.736\n",
      "                     C         79        100      0.608      0.712      0.665      0.593\n",
      "                     S         64         84       0.84      0.873      0.917      0.827\n",
      "Speed: 1.3ms preprocess, 72.3ms inference, 0.0ms loss, 0.9ms postprocess per image\n",
      "Evaluating: conf = 0.3, IoU = 0.7\n",
      "Ultralytics 8.3.54  Python-3.12.1 torch-2.5.1+cpu CPU (Intel Core(TM) i5-9300H 2.40GHz)\n"
     ]
    },
    {
     "name": "stderr",
     "output_type": "stream",
     "text": [
      "\n",
      "\u001b[34m\u001b[1mval: \u001b[0mScanning C:\\Users\\binmh\\AI group Project\\test\\labels.cache... 163 images, 0 backgrounds, 0 corrupt: 100%|█████████\u001b[0m\n",
      "                 Class     Images  Instances      Box(P          R      mAP50  mAP50-95): 100%|██████████| 11/11 [00:20"
     ]
    },
    {
     "name": "stdout",
     "output_type": "stream",
     "text": [
      "                   all        163        878      0.747      0.817      0.822      0.718\n",
      "                     V        162        694      0.793      0.867      0.883      0.735\n",
      "                     C         79        100      0.608      0.712      0.665      0.593\n",
      "                     S         64         84       0.84      0.873      0.917      0.827\n",
      "Speed: 1.3ms preprocess, 76.7ms inference, 0.0ms loss, 1.0ms postprocess per image\n",
      "Evaluating: conf = 0.3, IoU = 0.9\n",
      "Ultralytics 8.3.54  Python-3.12.1 torch-2.5.1+cpu CPU (Intel Core(TM) i5-9300H 2.40GHz)\n"
     ]
    },
    {
     "name": "stderr",
     "output_type": "stream",
     "text": [
      "\n",
      "\u001b[34m\u001b[1mval: \u001b[0mScanning C:\\Users\\binmh\\AI group Project\\test\\labels.cache... 163 images, 0 backgrounds, 0 corrupt: 100%|█████████\u001b[0m\n",
      "                 Class     Images  Instances      Box(P          R      mAP50  mAP50-95): 100%|██████████| 11/11 [00:20"
     ]
    },
    {
     "name": "stdout",
     "output_type": "stream",
     "text": [
      "                   all        163        878      0.723      0.781      0.809       0.71\n",
      "                     V        162        694      0.727       0.84       0.86      0.717\n",
      "                     C         79        100        0.6      0.646      0.659      0.589\n",
      "                     S         64         84      0.841      0.857      0.909      0.825\n",
      "Speed: 1.2ms preprocess, 74.9ms inference, 0.0ms loss, 1.0ms postprocess per image\n",
      "Evaluating: conf = 0.5, IoU = 0.3\n",
      "Ultralytics 8.3.54  Python-3.12.1 torch-2.5.1+cpu CPU (Intel Core(TM) i5-9300H 2.40GHz)\n"
     ]
    },
    {
     "name": "stderr",
     "output_type": "stream",
     "text": [
      "\n",
      "\u001b[34m\u001b[1mval: \u001b[0mScanning C:\\Users\\binmh\\AI group Project\\test\\labels.cache... 163 images, 0 backgrounds, 0 corrupt: 100%|█████████\u001b[0m\n",
      "                 Class     Images  Instances      Box(P          R      mAP50  mAP50-95): 100%|██████████| 11/11 [00:20"
     ]
    },
    {
     "name": "stdout",
     "output_type": "stream",
     "text": [
      "                   all        163        878      0.791      0.743      0.795        0.7\n",
      "                     V        162        694      0.849      0.803      0.857      0.723\n",
      "                     C         79        100      0.637       0.58      0.622      0.559\n",
      "                     S         64         84      0.887      0.845      0.905      0.819\n",
      "Speed: 1.2ms preprocess, 75.5ms inference, 0.0ms loss, 0.9ms postprocess per image\n",
      "Evaluating: conf = 0.5, IoU = 0.5\n",
      "Ultralytics 8.3.54  Python-3.12.1 torch-2.5.1+cpu CPU (Intel Core(TM) i5-9300H 2.40GHz)\n"
     ]
    },
    {
     "name": "stderr",
     "output_type": "stream",
     "text": [
      "\n",
      "\u001b[34m\u001b[1mval: \u001b[0mScanning C:\\Users\\binmh\\AI group Project\\test\\labels.cache... 163 images, 0 backgrounds, 0 corrupt: 100%|█████████\u001b[0m\n",
      "                 Class     Images  Instances      Box(P          R      mAP50  mAP50-95): 100%|██████████| 11/11 [00:20"
     ]
    },
    {
     "name": "stdout",
     "output_type": "stream",
     "text": [
      "                   all        163        878      0.792      0.747      0.797      0.702\n",
      "                     V        162        694      0.849      0.803      0.857      0.723\n",
      "                     C         79        100      0.637       0.58      0.622      0.559\n",
      "                     S         64         84      0.889      0.857      0.911      0.825\n",
      "Speed: 1.3ms preprocess, 76.0ms inference, 0.0ms loss, 0.9ms postprocess per image\n",
      "Evaluating: conf = 0.5, IoU = 0.7\n",
      "Ultralytics 8.3.54  Python-3.12.1 torch-2.5.1+cpu CPU (Intel Core(TM) i5-9300H 2.40GHz)\n"
     ]
    },
    {
     "name": "stderr",
     "output_type": "stream",
     "text": [
      "\n",
      "\u001b[34m\u001b[1mval: \u001b[0mScanning C:\\Users\\binmh\\AI group Project\\test\\labels.cache... 163 images, 0 backgrounds, 0 corrupt: 100%|█████████\u001b[0m\n",
      "                 Class     Images  Instances      Box(P          R      mAP50  mAP50-95): 100%|██████████| 11/11 [00:20"
     ]
    },
    {
     "name": "stdout",
     "output_type": "stream",
     "text": [
      "                   all        163        878      0.791      0.747      0.797      0.702\n",
      "                     V        162        694      0.847      0.803      0.857      0.722\n",
      "                     C         79        100      0.637       0.58      0.622      0.559\n",
      "                     S         64         84      0.889      0.857      0.911      0.825\n",
      "Speed: 1.2ms preprocess, 74.4ms inference, 0.0ms loss, 0.9ms postprocess per image\n",
      "Evaluating: conf = 0.5, IoU = 0.9\n",
      "Ultralytics 8.3.54  Python-3.12.1 torch-2.5.1+cpu CPU (Intel Core(TM) i5-9300H 2.40GHz)\n"
     ]
    },
    {
     "name": "stderr",
     "output_type": "stream",
     "text": [
      "\n",
      "\u001b[34m\u001b[1mval: \u001b[0mScanning C:\\Users\\binmh\\AI group Project\\test\\labels.cache... 163 images, 0 backgrounds, 0 corrupt: 100%|█████████\u001b[0m\n",
      "                 Class     Images  Instances      Box(P          R      mAP50  mAP50-95): 100%|██████████| 11/11 [00:19"
     ]
    },
    {
     "name": "stdout",
     "output_type": "stream",
     "text": [
      "                   all        163        878      0.754      0.747       0.79      0.698\n",
      "                     V        162        694      0.766      0.803       0.84      0.709\n",
      "                     C         79        100      0.637       0.58      0.622      0.559\n",
      "                     S         64         84      0.857      0.857      0.906      0.825\n",
      "Speed: 1.2ms preprocess, 74.2ms inference, 0.0ms loss, 1.0ms postprocess per image\n",
      "All metrics saved successfully.\n"
     ]
    },
    {
     "name": "stderr",
     "output_type": "stream",
     "text": [
      "\n"
     ]
    }
   ],
   "source": [
    "conf_values = [0.001, 0.1, 0.3, 0.5]\n",
    "iou_values = [0.3, 0.5, 0.7, 0.9]\n",
    "output_dir = \"./initial_results\"\n",
    "\n",
    "evaluate_and_save_metrics(model, test_data_yaml, conf_values, iou_values, output_dir)"
   ]
  },
  {
   "cell_type": "code",
   "execution_count": null,
   "metadata": {},
   "outputs": [],
   "source": []
  }
 ],
 "metadata": {
  "accelerator": "GPU",
  "colab": {
   "gpuType": "A100",
   "provenance": []
  },
  "kernelspec": {
   "display_name": "Python 3 (ipykernel)",
   "language": "python",
   "name": "python3"
  },
  "language_info": {
   "codemirror_mode": {
    "name": "ipython",
    "version": 3
   },
   "file_extension": ".py",
   "mimetype": "text/x-python",
   "name": "python",
   "nbconvert_exporter": "python",
   "pygments_lexer": "ipython3",
   "version": "3.12.1"
  }
 },
 "nbformat": 4,
 "nbformat_minor": 4
}
