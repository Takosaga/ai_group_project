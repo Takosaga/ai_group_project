{
 "cells": [
  {
   "cell_type": "code",
   "execution_count": 10,
   "id": "26c13c02-35c7-4d2e-a3da-2c07baa9b317",
   "metadata": {},
   "outputs": [],
   "source": [
    "import pandas as pd\n",
    "from ultralytics import YOLO"
   ]
  },
  {
   "cell_type": "code",
   "execution_count": 11,
   "id": "2218a561-cbdc-4837-bca4-33c8ade51d94",
   "metadata": {},
   "outputs": [],
   "source": [
    "augmented_model_path = \"./augmented.pt\" # Local path where manually downloaded model from GCS is saved\n",
    "test_results_path = \"./test_results\"  # Local folder for test results\n",
    "test_data_yaml = \"./test_data.yaml\"  # YAML file for test data configuration"
   ]
  },
  {
   "cell_type": "code",
   "execution_count": 12,
   "id": "f8320fa5-a361-44b4-8b5f-8ad3d7676b9e",
   "metadata": {},
   "outputs": [
    {
     "name": "stdout",
     "output_type": "stream",
     "text": [
      "[INFO] Loading YOLO model...\n"
     ]
    }
   ],
   "source": [
    "# Initialize augmented YOLO model\n",
    "print(\"[INFO] Loading YOLO model...\")\n",
    "model = YOLO(augmented_model_path)"
   ]
  },
  {
   "cell_type": "markdown",
   "id": "539a98fd-4f43-42df-a026-5f6a0834de8b",
   "metadata": {},
   "source": [
    "# Initial Testing and Saving Results"
   ]
  },
  {
   "cell_type": "code",
   "execution_count": 13,
   "id": "7e1c49c6-d9da-441f-b5c9-2c29bdf60aef",
   "metadata": {},
   "outputs": [
    {
     "name": "stdout",
     "output_type": "stream",
     "text": [
      "Ultralytics 8.3.54  Python-3.12.1 torch-2.5.1+cpu CPU (Intel Core(TM) i5-9300H 2.40GHz)\n",
      "Model summary (fused): 168 layers, 3,006,233 parameters, 0 gradients, 8.1 GFLOPs\n"
     ]
    },
    {
     "name": "stderr",
     "output_type": "stream",
     "text": [
      "\u001b[34m\u001b[1mval: \u001b[0mScanning C:\\Users\\binmh\\AI group Project\\test\\labels.cache... 163 images, 0 backgrounds, 0 corrupt: 100%|█████████\u001b[0m\n",
      "                 Class     Images  Instances      Box(P          R      mAP50  mAP50-95): 100%|██████████| 11/11 [00:13\n"
     ]
    },
    {
     "name": "stdout",
     "output_type": "stream",
     "text": [
      "                   all        163        878      0.759      0.838      0.864      0.729\n",
      "                     V        162        694      0.815      0.867      0.912      0.733\n",
      "                     C         79        100      0.582      0.767      0.747      0.644\n",
      "                     S         64         84      0.881       0.88      0.933       0.81\n",
      "Speed: 1.2ms preprocess, 55.6ms inference, 0.0ms loss, 0.5ms postprocess per image\n",
      "Saving test_results\\augmented_test_predictions\\predictions.json...\n",
      "Results saved to \u001b[1mtest_results\\augmented_test_predictions\u001b[0m\n",
      "\n",
      "Validation completed. Check the metrics above and JSON file for detailed results.\n"
     ]
    }
   ],
   "source": [
    "model.val(\n",
    "    data=test_data_yaml,  # Use the YAML file for test data\n",
    "    save_json=True,       # Save results in JSON format\n",
    "    save_conf=True,       # Save confidence scores\n",
    "    project=test_results_path, # Save results in the specified folder\n",
    "    name=\"augmented_test_predictions\",\n",
    "    plots=True            # Enable plotting for visualization\n",
    "    )\n",
    "\n",
    "# Display validation metrics from YOLO output\n",
    "print(\"\\nValidation completed. Check the metrics above and JSON file for detailed results.\")"
   ]
  },
  {
   "cell_type": "markdown",
   "id": "5f6e6abc-da05-4cb2-b261-c0a27281c5c1",
   "metadata": {},
   "source": [
    "# Saving Results to csv files"
   ]
  },
  {
   "cell_type": "code",
   "execution_count": 4,
   "id": "a2d90304-d61c-4f6e-895e-3957c10002cd",
   "metadata": {},
   "outputs": [],
   "source": [
    "def evaluate_and_save_metrics(model, test_data_yaml, conf_values, iou_values, output_dir):\n",
    "    # Initialize lists for metrics\n",
    "    metrics_all = []\n",
    "    metrics_v = []\n",
    "    metrics_c = []\n",
    "    metrics_s = []\n",
    "\n",
    "    # Iterate over all combinations of confidence and IoU thresholds\n",
    "    for conf in conf_values:\n",
    "        for iou in iou_values:\n",
    "            print(f\"Evaluating: conf = {conf}, IoU = {iou}\")\n",
    "            \n",
    "            # Run model evaluation\n",
    "            metrics = model.val(data=test_data_yaml, conf=conf, iou=iou, plots=False)\n",
    "\n",
    "            # Access overall mean results\n",
    "            mean_results = metrics.mean_results()  # Precision, recall, mAP@50, mAP@50-95\n",
    "            metrics_all.append({\n",
    "                \"iou\": iou,\n",
    "                \"conf\": conf,\n",
    "                \"p\": mean_results[0],  # Precision\n",
    "                \"r\": mean_results[1],  # Recall\n",
    "                \"map50\": mean_results[2],  # mAP@50\n",
    "                \"map50-95\": mean_results[3]  # mAP@50-95\n",
    "            })\n",
    "\n",
    "            # Access per-class metrics\n",
    "            for class_idx, metrics_list in zip(\n",
    "                [0, 1, 2], [metrics_v, metrics_c, metrics_s]\n",
    "            ):\n",
    "                class_results = metrics.class_result(class_idx)  # Get metrics for a specific class\n",
    "                metrics_list.append({\n",
    "                    \"iou\": iou,\n",
    "                    \"conf\": conf,\n",
    "                    \"p\": class_results[0],  # Precision for the class\n",
    "                    \"r\": class_results[1],  # Recall for the class\n",
    "                    \"map50\": class_results[2],  # mAP@50 for the class\n",
    "                    \"map50-95\": class_results[3]  # mAP@50-95 for the class\n",
    "                })\n",
    "\n",
    "    # Create DataFrames\n",
    "    df_all = pd.DataFrame(metrics_all)\n",
    "    df_v = pd.DataFrame(metrics_v)\n",
    "    df_c = pd.DataFrame(metrics_c)\n",
    "    df_s = pd.DataFrame(metrics_s)\n",
    "\n",
    "    # Save DataFrames to CSV files\n",
    "    df_all.to_csv(f\"{output_dir}/metrics_all.csv\", index=False)\n",
    "    df_v.to_csv(f\"{output_dir}/metrics_v.csv\", index=False)\n",
    "    df_c.to_csv(f\"{output_dir}/metrics_c.csv\", index=False)\n",
    "    df_s.to_csv(f\"{output_dir}/metrics_s.csv\", index=False)\n",
    "\n",
    "    print(\"All metrics saved successfully.\")"
   ]
  },
  {
   "cell_type": "code",
   "execution_count": 5,
   "id": "c67c9ff7-ab9b-4808-877a-903d853676f3",
   "metadata": {},
   "outputs": [
    {
     "name": "stdout",
     "output_type": "stream",
     "text": [
      "Evaluating: conf = 0.001, IoU = 0.3\n",
      "Ultralytics 8.3.54  Python-3.12.1 torch-2.5.1+cpu CPU (Intel Core(TM) i5-9300H 2.40GHz)\n",
      "Model summary (fused): 168 layers, 3,006,233 parameters, 0 gradients, 8.1 GFLOPs\n"
     ]
    },
    {
     "name": "stderr",
     "output_type": "stream",
     "text": [
      "\u001b[34m\u001b[1mval: \u001b[0mScanning C:\\Users\\binmh\\AI group Project\\test\\labels.cache... 163 images, 0 backgrounds, 0 corrupt: 100%|█████████\u001b[0m\n",
      "                 Class     Images  Instances      Box(P          R      mAP50  mAP50-95): 100%|██████████| 11/11 [00:21"
     ]
    },
    {
     "name": "stdout",
     "output_type": "stream",
     "text": [
      "                   all        163        878       0.75      0.844      0.865      0.729\n",
      "                     V        162        694      0.804      0.871      0.914      0.736\n",
      "                     C         79        100      0.585       0.78      0.749      0.643\n",
      "                     S         64         84      0.861      0.883      0.933      0.809\n",
      "Speed: 1.4ms preprocess, 83.6ms inference, 0.0ms loss, 0.9ms postprocess per image\n",
      "Evaluating: conf = 0.001, IoU = 0.5\n",
      "Ultralytics 8.3.54  Python-3.12.1 torch-2.5.1+cpu CPU (Intel Core(TM) i5-9300H 2.40GHz)\n"
     ]
    },
    {
     "name": "stderr",
     "output_type": "stream",
     "text": [
      "\n",
      "\u001b[34m\u001b[1mval: \u001b[0mScanning C:\\Users\\binmh\\AI group Project\\test\\labels.cache... 163 images, 0 backgrounds, 0 corrupt: 100%|█████████\u001b[0m\n",
      "                 Class     Images  Instances      Box(P          R      mAP50  mAP50-95): 100%|██████████| 11/11 [00:20"
     ]
    },
    {
     "name": "stdout",
     "output_type": "stream",
     "text": [
      "                   all        163        878      0.761      0.839      0.865      0.729\n",
      "                     V        162        694      0.817      0.867      0.914      0.735\n",
      "                     C         79        100      0.587       0.77      0.748      0.643\n",
      "                     S         64         84       0.88      0.881      0.932      0.808\n",
      "Speed: 1.3ms preprocess, 77.1ms inference, 0.0ms loss, 1.1ms postprocess per image\n",
      "Evaluating: conf = 0.001, IoU = 0.7\n",
      "Ultralytics 8.3.54  Python-3.12.1 torch-2.5.1+cpu CPU (Intel Core(TM) i5-9300H 2.40GHz)\n"
     ]
    },
    {
     "name": "stderr",
     "output_type": "stream",
     "text": [
      "\n",
      "\u001b[34m\u001b[1mval: \u001b[0mScanning C:\\Users\\binmh\\AI group Project\\test\\labels.cache... 163 images, 0 backgrounds, 0 corrupt: 100%|█████████\u001b[0m\n",
      "                 Class     Images  Instances      Box(P          R      mAP50  mAP50-95): 100%|██████████| 11/11 [00:20"
     ]
    },
    {
     "name": "stdout",
     "output_type": "stream",
     "text": [
      "                   all        163        878      0.759      0.838      0.864      0.729\n",
      "                     V        162        694      0.815      0.867      0.912      0.733\n",
      "                     C         79        100      0.582      0.767      0.747      0.644\n",
      "                     S         64         84      0.881       0.88      0.933       0.81\n",
      "Speed: 1.2ms preprocess, 74.5ms inference, 0.0ms loss, 1.2ms postprocess per image\n",
      "Evaluating: conf = 0.001, IoU = 0.9\n",
      "Ultralytics 8.3.54  Python-3.12.1 torch-2.5.1+cpu CPU (Intel Core(TM) i5-9300H 2.40GHz)\n"
     ]
    },
    {
     "name": "stderr",
     "output_type": "stream",
     "text": [
      "\n",
      "\u001b[34m\u001b[1mval: \u001b[0mScanning C:\\Users\\binmh\\AI group Project\\test\\labels.cache... 163 images, 0 backgrounds, 0 corrupt: 100%|█████████\u001b[0m\n",
      "                 Class     Images  Instances      Box(P          R      mAP50  mAP50-95): 100%|██████████| 11/11 [00:20"
     ]
    },
    {
     "name": "stdout",
     "output_type": "stream",
     "text": [
      "                   all        163        878      0.826      0.726      0.845      0.719\n",
      "                     V        162        694      0.829      0.747      0.882      0.715\n",
      "                     C         79        100      0.732       0.63      0.737      0.636\n",
      "                     S         64         84      0.918        0.8      0.916      0.805\n",
      "Speed: 1.3ms preprocess, 75.9ms inference, 0.0ms loss, 1.1ms postprocess per image\n",
      "Evaluating: conf = 0.1, IoU = 0.3\n",
      "Ultralytics 8.3.54  Python-3.12.1 torch-2.5.1+cpu CPU (Intel Core(TM) i5-9300H 2.40GHz)\n"
     ]
    },
    {
     "name": "stderr",
     "output_type": "stream",
     "text": [
      "\n",
      "\u001b[34m\u001b[1mval: \u001b[0mScanning C:\\Users\\binmh\\AI group Project\\test\\labels.cache... 163 images, 0 backgrounds, 0 corrupt: 100%|█████████\u001b[0m\n",
      "                 Class     Images  Instances      Box(P          R      mAP50  mAP50-95): 100%|██████████| 11/11 [00:20"
     ]
    },
    {
     "name": "stdout",
     "output_type": "stream",
     "text": [
      "                   all        163        878       0.75      0.844      0.854      0.736\n",
      "                     V        162        694      0.804      0.871      0.905      0.746\n",
      "                     C         79        100      0.585       0.78      0.734      0.637\n",
      "                     S         64         84      0.861      0.883      0.924      0.825\n",
      "Speed: 1.2ms preprocess, 74.9ms inference, 0.0ms loss, 0.9ms postprocess per image\n",
      "Evaluating: conf = 0.1, IoU = 0.5\n",
      "Ultralytics 8.3.54  Python-3.12.1 torch-2.5.1+cpu CPU (Intel Core(TM) i5-9300H 2.40GHz)\n"
     ]
    },
    {
     "name": "stderr",
     "output_type": "stream",
     "text": [
      "\n",
      "\u001b[34m\u001b[1mval: \u001b[0mScanning C:\\Users\\binmh\\AI group Project\\test\\labels.cache... 163 images, 0 backgrounds, 0 corrupt: 100%|█████████\u001b[0m\n",
      "                 Class     Images  Instances      Box(P          R      mAP50  mAP50-95): 100%|██████████| 11/11 [00:20"
     ]
    },
    {
     "name": "stdout",
     "output_type": "stream",
     "text": [
      "                   all        163        878      0.761      0.839      0.854      0.735\n",
      "                     V        162        694      0.817      0.867      0.905      0.745\n",
      "                     C         79        100      0.587       0.77      0.734      0.637\n",
      "                     S         64         84       0.88      0.881      0.924      0.824\n",
      "Speed: 1.3ms preprocess, 74.6ms inference, 0.0ms loss, 1.1ms postprocess per image\n",
      "Evaluating: conf = 0.1, IoU = 0.7\n",
      "Ultralytics 8.3.54  Python-3.12.1 torch-2.5.1+cpu CPU (Intel Core(TM) i5-9300H 2.40GHz)\n"
     ]
    },
    {
     "name": "stderr",
     "output_type": "stream",
     "text": [
      "\n",
      "\u001b[34m\u001b[1mval: \u001b[0mScanning C:\\Users\\binmh\\AI group Project\\test\\labels.cache... 163 images, 0 backgrounds, 0 corrupt: 100%|█████████\u001b[0m\n",
      "                 Class     Images  Instances      Box(P          R      mAP50  mAP50-95): 100%|██████████| 11/11 [00:20"
     ]
    },
    {
     "name": "stdout",
     "output_type": "stream",
     "text": [
      "                   all        163        878      0.759      0.838      0.853      0.735\n",
      "                     V        162        694      0.815      0.867      0.904      0.745\n",
      "                     C         79        100      0.582      0.767      0.732      0.638\n",
      "                     S         64         84      0.881       0.88      0.923      0.823\n",
      "Speed: 1.3ms preprocess, 74.5ms inference, 0.0ms loss, 1.0ms postprocess per image\n",
      "Evaluating: conf = 0.1, IoU = 0.9\n",
      "Ultralytics 8.3.54  Python-3.12.1 torch-2.5.1+cpu CPU (Intel Core(TM) i5-9300H 2.40GHz)\n"
     ]
    },
    {
     "name": "stderr",
     "output_type": "stream",
     "text": [
      "\n",
      "\u001b[34m\u001b[1mval: \u001b[0mScanning C:\\Users\\binmh\\AI group Project\\test\\labels.cache... 163 images, 0 backgrounds, 0 corrupt: 100%|█████████\u001b[0m\n",
      "                 Class     Images  Instances      Box(P          R      mAP50  mAP50-95): 100%|██████████| 11/11 [00:20"
     ]
    },
    {
     "name": "stdout",
     "output_type": "stream",
     "text": [
      "                   all        163        878      0.826      0.726      0.838      0.724\n",
      "                     V        162        694      0.829      0.747      0.878      0.725\n",
      "                     C         79        100      0.732       0.63      0.725      0.631\n",
      "                     S         64         84      0.918        0.8      0.911      0.814\n",
      "Speed: 1.3ms preprocess, 74.3ms inference, 0.0ms loss, 1.0ms postprocess per image\n",
      "Evaluating: conf = 0.3, IoU = 0.3\n",
      "Ultralytics 8.3.54  Python-3.12.1 torch-2.5.1+cpu CPU (Intel Core(TM) i5-9300H 2.40GHz)\n"
     ]
    },
    {
     "name": "stderr",
     "output_type": "stream",
     "text": [
      "\n",
      "\u001b[34m\u001b[1mval: \u001b[0mScanning C:\\Users\\binmh\\AI group Project\\test\\labels.cache... 163 images, 0 backgrounds, 0 corrupt: 100%|█████████\u001b[0m\n",
      "                 Class     Images  Instances      Box(P          R      mAP50  mAP50-95): 100%|██████████| 11/11 [00:20"
     ]
    },
    {
     "name": "stdout",
     "output_type": "stream",
     "text": [
      "                   all        163        878      0.762      0.839       0.84      0.729\n",
      "                     V        162        694      0.818      0.867      0.888      0.741\n",
      "                     C         79        100      0.588       0.77      0.712      0.619\n",
      "                     S         64         84      0.881      0.881      0.919      0.826\n",
      "Speed: 1.2ms preprocess, 74.7ms inference, 0.0ms loss, 0.9ms postprocess per image\n",
      "Evaluating: conf = 0.3, IoU = 0.5\n",
      "Ultralytics 8.3.54  Python-3.12.1 torch-2.5.1+cpu CPU (Intel Core(TM) i5-9300H 2.40GHz)\n"
     ]
    },
    {
     "name": "stderr",
     "output_type": "stream",
     "text": [
      "\n",
      "\u001b[34m\u001b[1mval: \u001b[0mScanning C:\\Users\\binmh\\AI group Project\\test\\labels.cache... 163 images, 0 backgrounds, 0 corrupt: 100%|█████████\u001b[0m\n",
      "                 Class     Images  Instances      Box(P          R      mAP50  mAP50-95): 100%|██████████| 11/11 [00:20"
     ]
    },
    {
     "name": "stdout",
     "output_type": "stream",
     "text": [
      "                   all        163        878      0.762      0.839       0.84      0.729\n",
      "                     V        162        694      0.818      0.867      0.888      0.741\n",
      "                     C         79        100      0.588       0.77      0.712      0.619\n",
      "                     S         64         84      0.881      0.881      0.919      0.826\n",
      "Speed: 1.4ms preprocess, 74.3ms inference, 0.0ms loss, 0.9ms postprocess per image\n",
      "Evaluating: conf = 0.3, IoU = 0.7\n",
      "Ultralytics 8.3.54  Python-3.12.1 torch-2.5.1+cpu CPU (Intel Core(TM) i5-9300H 2.40GHz)\n"
     ]
    },
    {
     "name": "stderr",
     "output_type": "stream",
     "text": [
      "\n",
      "\u001b[34m\u001b[1mval: \u001b[0mScanning C:\\Users\\binmh\\AI group Project\\test\\labels.cache... 163 images, 0 backgrounds, 0 corrupt: 100%|█████████\u001b[0m\n",
      "                 Class     Images  Instances      Box(P          R      mAP50  mAP50-95): 100%|██████████| 11/11 [00:20"
     ]
    },
    {
     "name": "stdout",
     "output_type": "stream",
     "text": [
      "                   all        163        878       0.76      0.839      0.839      0.728\n",
      "                     V        162        694      0.815      0.867      0.888      0.741\n",
      "                     C         79        100      0.583       0.77      0.711      0.618\n",
      "                     S         64         84      0.881      0.881      0.919      0.826\n",
      "Speed: 1.2ms preprocess, 75.3ms inference, 0.0ms loss, 0.9ms postprocess per image\n",
      "Evaluating: conf = 0.3, IoU = 0.9\n",
      "Ultralytics 8.3.54  Python-3.12.1 torch-2.5.1+cpu CPU (Intel Core(TM) i5-9300H 2.40GHz)\n"
     ]
    },
    {
     "name": "stderr",
     "output_type": "stream",
     "text": [
      "\n",
      "\u001b[34m\u001b[1mval: \u001b[0mScanning C:\\Users\\binmh\\AI group Project\\test\\labels.cache... 163 images, 0 backgrounds, 0 corrupt: 100%|█████████\u001b[0m\n",
      "                 Class     Images  Instances      Box(P          R      mAP50  mAP50-95): 100%|██████████| 11/11 [00:20"
     ]
    },
    {
     "name": "stdout",
     "output_type": "stream",
     "text": [
      "                   all        163        878      0.826      0.726      0.828       0.72\n",
      "                     V        162        694      0.829      0.747      0.866      0.724\n",
      "                     C         79        100      0.732       0.63      0.706      0.615\n",
      "                     S         64         84      0.918        0.8      0.912      0.822\n",
      "Speed: 1.2ms preprocess, 74.6ms inference, 0.0ms loss, 1.0ms postprocess per image\n",
      "Evaluating: conf = 0.5, IoU = 0.3\n",
      "Ultralytics 8.3.54  Python-3.12.1 torch-2.5.1+cpu CPU (Intel Core(TM) i5-9300H 2.40GHz)\n"
     ]
    },
    {
     "name": "stderr",
     "output_type": "stream",
     "text": [
      "\n",
      "\u001b[34m\u001b[1mval: \u001b[0mScanning C:\\Users\\binmh\\AI group Project\\test\\labels.cache... 163 images, 0 backgrounds, 0 corrupt: 100%|█████████\u001b[0m\n",
      "                 Class     Images  Instances      Box(P          R      mAP50  mAP50-95): 100%|██████████| 11/11 [00:20"
     ]
    },
    {
     "name": "stdout",
     "output_type": "stream",
     "text": [
      "                   all        163        878      0.843      0.728      0.807      0.706\n",
      "                     V        162        694       0.88      0.755       0.85      0.717\n",
      "                     C         79        100      0.707       0.63      0.684      0.598\n",
      "                     S         64         84      0.944      0.798      0.887      0.803\n",
      "Speed: 1.3ms preprocess, 75.2ms inference, 0.0ms loss, 0.9ms postprocess per image\n",
      "Evaluating: conf = 0.5, IoU = 0.5\n",
      "Ultralytics 8.3.54  Python-3.12.1 torch-2.5.1+cpu CPU (Intel Core(TM) i5-9300H 2.40GHz)\n"
     ]
    },
    {
     "name": "stderr",
     "output_type": "stream",
     "text": [
      "\n",
      "\u001b[34m\u001b[1mval: \u001b[0mScanning C:\\Users\\binmh\\AI group Project\\test\\labels.cache... 163 images, 0 backgrounds, 0 corrupt: 100%|█████████\u001b[0m\n",
      "                 Class     Images  Instances      Box(P          R      mAP50  mAP50-95): 100%|██████████| 11/11 [00:20"
     ]
    },
    {
     "name": "stdout",
     "output_type": "stream",
     "text": [
      "                   all        163        878      0.843      0.728      0.807      0.706\n",
      "                     V        162        694       0.88      0.755       0.85      0.717\n",
      "                     C         79        100      0.707       0.63      0.684      0.598\n",
      "                     S         64         84      0.944      0.798      0.887      0.803\n",
      "Speed: 1.3ms preprocess, 75.1ms inference, 0.0ms loss, 0.9ms postprocess per image\n",
      "Evaluating: conf = 0.5, IoU = 0.7\n",
      "Ultralytics 8.3.54  Python-3.12.1 torch-2.5.1+cpu CPU (Intel Core(TM) i5-9300H 2.40GHz)\n"
     ]
    },
    {
     "name": "stderr",
     "output_type": "stream",
     "text": [
      "\n",
      "\u001b[34m\u001b[1mval: \u001b[0mScanning C:\\Users\\binmh\\AI group Project\\test\\labels.cache... 163 images, 0 backgrounds, 0 corrupt: 100%|█████████\u001b[0m\n",
      "                 Class     Images  Instances      Box(P          R      mAP50  mAP50-95): 100%|██████████| 11/11 [00:20"
     ]
    },
    {
     "name": "stdout",
     "output_type": "stream",
     "text": [
      "                   all        163        878      0.843      0.728      0.807      0.706\n",
      "                     V        162        694       0.88      0.755       0.85      0.717\n",
      "                     C         79        100      0.707       0.63      0.684      0.598\n",
      "                     S         64         84      0.944      0.798      0.887      0.803\n",
      "Speed: 1.2ms preprocess, 75.2ms inference, 0.0ms loss, 0.9ms postprocess per image\n",
      "Evaluating: conf = 0.5, IoU = 0.9\n",
      "Ultralytics 8.3.54  Python-3.12.1 torch-2.5.1+cpu CPU (Intel Core(TM) i5-9300H 2.40GHz)\n"
     ]
    },
    {
     "name": "stderr",
     "output_type": "stream",
     "text": [
      "\n",
      "\u001b[34m\u001b[1mval: \u001b[0mScanning C:\\Users\\binmh\\AI group Project\\test\\labels.cache... 163 images, 0 backgrounds, 0 corrupt: 100%|█████████\u001b[0m\n",
      "                 Class     Images  Instances      Box(P          R      mAP50  mAP50-95): 100%|██████████| 11/11 [00:20"
     ]
    },
    {
     "name": "stdout",
     "output_type": "stream",
     "text": [
      "                   all        163        878      0.825       0.72        0.8      0.701\n",
      "                     V        162        694       0.83      0.743      0.837      0.707\n",
      "                     C         79        100      0.729      0.619      0.682      0.596\n",
      "                     S         64         84      0.918      0.798      0.883      0.799\n",
      "Speed: 1.3ms preprocess, 76.4ms inference, 0.0ms loss, 0.9ms postprocess per image\n",
      "All metrics saved successfully.\n"
     ]
    },
    {
     "name": "stderr",
     "output_type": "stream",
     "text": [
      "\n"
     ]
    }
   ],
   "source": [
    "conf_values = [0.001, 0.1, 0.3, 0.5]\n",
    "iou_values = [0.3, 0.5, 0.7, 0.9]\n",
    "output_dir = \"./augmented_results\"\n",
    "\n",
    "evaluate_and_save_metrics(model, test_data_yaml, conf_values, iou_values, output_dir)"
   ]
  }
 ],
 "metadata": {
  "kernelspec": {
   "display_name": "Python 3 (ipykernel)",
   "language": "python",
   "name": "python3"
  },
  "language_info": {
   "codemirror_mode": {
    "name": "ipython",
    "version": 3
   },
   "file_extension": ".py",
   "mimetype": "text/x-python",
   "name": "python",
   "nbconvert_exporter": "python",
   "pygments_lexer": "ipython3",
   "version": "3.12.1"
  }
 },
 "nbformat": 4,
 "nbformat_minor": 5
}
