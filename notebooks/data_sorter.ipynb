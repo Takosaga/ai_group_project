{
  "nbformat": 4,
  "nbformat_minor": 0,
  "metadata": {
    "colab": {
      "provenance": [],
      "authorship_tag": "ABX9TyMqUbQW5j1n+gZ97aewB6eX",
      "include_colab_link": true
    },
    "kernelspec": {
      "name": "python3",
      "display_name": "Python 3"
    },
    "language_info": {
      "name": "python"
    }
  },
  "cells": [
    {
      "cell_type": "markdown",
      "metadata": {
        "id": "view-in-github",
        "colab_type": "text"
      },
      "source": [
        "<a href=\"https://colab.research.google.com/github/Takosaga/ai_group_project/blob/main/notebooks/data_sorter.ipynb\" target=\"_parent\"><img src=\"https://colab.research.google.com/assets/colab-badge.svg\" alt=\"Open In Colab\"/></a>"
      ]
    },
    {
      "cell_type": "code",
      "execution_count": 1,
      "metadata": {
        "id": "mPnDGdB8Rhjt"
      },
      "outputs": [],
      "source": [
        "import os\n",
        "import random\n",
        "from google.colab import auth\n",
        "from google.cloud import storage"
      ]
    },
    {
      "cell_type": "code",
      "source": [
        "# Authenticate and initialize the Google Cloud client\n",
        "auth.authenticate_user()\n",
        "project_id = \"ai-group-project\"  # Replace with your Google Cloud project ID\n",
        "client = storage.Client(project=project_id)\n",
        "bucket_name = \"ai-group-project-data\"  # Replace with your bucket name\n",
        "bucket = client.get_bucket(bucket_name)"
      ],
      "metadata": {
        "id": "09QmMiQBRuwM"
      },
      "execution_count": 3,
      "outputs": []
    },
    {
      "cell_type": "code",
      "source": [
        "# Define source and target paths\n",
        "source_path = \"data/raw/images/\"  # Path in the bucket where raw images are stored\n",
        "target_path = \"datasets/v1\"  # Path in the bucket for train/val/test datasets"
      ],
      "metadata": {
        "id": "lS7iMdeORypm"
      },
      "execution_count": 4,
      "outputs": []
    },
    {
      "cell_type": "code",
      "source": [
        "# Create folders for train, val, and test splits\n",
        "splits = [\"train\", \"val\", \"test\"]\n",
        "for split in splits:\n",
        "    os.makedirs(f\"{target_path}/{split}/images\", exist_ok=True)"
      ],
      "metadata": {
        "id": "XpKvjLRNR1v8"
      },
      "execution_count": 5,
      "outputs": []
    },
    {
      "cell_type": "code",
      "source": [
        "# Proportions for train, val, and test\n",
        "split_ratios = {\"train\": 0.6, \"val\": 0.2, \"test\": 0.2}"
      ],
      "metadata": {
        "id": "E4dwwXnOR4mc"
      },
      "execution_count": 6,
      "outputs": []
    },
    {
      "cell_type": "code",
      "source": [
        "# List all image files in the source path\n",
        "blobs = list(bucket.list_blobs(prefix=source_path))\n",
        "image_files = [blob.name for blob in blobs if blob.name.endswith((\".jpg\", \".png\", \".jpeg\"))]"
      ],
      "metadata": {
        "id": "O4I9QewRR6Bg"
      },
      "execution_count": 7,
      "outputs": []
    },
    {
      "cell_type": "code",
      "source": [
        "# Shuffle the files for random distribution\n",
        "random.shuffle(image_files)\n",
        "\n",
        "# Calculate number of files for each split\n",
        "total_files = len(image_files)\n",
        "train_count = int(total_files * split_ratios[\"train\"])\n",
        "val_count = int(total_files * split_ratios[\"val\"])\n",
        "test_count = total_files - train_count - val_count\n",
        "\n",
        "# Split the files\n",
        "train_files = image_files[:train_count]\n",
        "val_files = image_files[train_count:train_count + val_count]\n",
        "test_files = image_files[train_count + val_count:]"
      ],
      "metadata": {
        "id": "HTwbCAK7R9A8"
      },
      "execution_count": 8,
      "outputs": []
    },
    {
      "cell_type": "code",
      "source": [
        "# Function to copy files to the target location\n",
        "def copy_files(file_list, split_name):\n",
        "    copied_files = 0\n",
        "    for file_path in file_list:\n",
        "        blob = bucket.blob(file_path)\n",
        "        target_blob_name = file_path.replace(source_path, f\"{target_path}/{split_name}/images/\")\n",
        "        bucket.copy_blob(blob, bucket, new_name=target_blob_name)\n",
        "        copied_files += 1\n",
        "    return copied_files"
      ],
      "metadata": {
        "id": "qdB7wxfGSBHs"
      },
      "execution_count": 9,
      "outputs": []
    },
    {
      "cell_type": "code",
      "source": [
        "# Copy files to their respective folders\n",
        "print(\"Copying train files...\")\n",
        "train_copied = copy_files(train_files, \"train\")\n",
        "assert train_copied == train_count, f\"Expected {train_count} files, but only {train_copied} were copied to train.\""
      ],
      "metadata": {
        "colab": {
          "base_uri": "https://localhost:8080/"
        },
        "id": "3qo0T3SvSDCk",
        "outputId": "1895b3aa-1a6b-4404-aeb3-cac77461edf1"
      },
      "execution_count": 10,
      "outputs": [
        {
          "output_type": "stream",
          "name": "stdout",
          "text": [
            "Copying train files...\n"
          ]
        }
      ]
    },
    {
      "cell_type": "code",
      "source": [
        "print(\"Copying val files...\")\n",
        "val_copied = copy_files(val_files, \"val\")\n",
        "assert val_copied == val_count, f\"Expected {val_count} files, but only {val_copied} were copied to val.\""
      ],
      "metadata": {
        "colab": {
          "base_uri": "https://localhost:8080/"
        },
        "id": "n7u1OqKMSGZ8",
        "outputId": "2d7584a6-2f46-42a7-a12b-c916ca63fb6b"
      },
      "execution_count": 11,
      "outputs": [
        {
          "output_type": "stream",
          "name": "stdout",
          "text": [
            "Copying val files...\n"
          ]
        }
      ]
    },
    {
      "cell_type": "code",
      "source": [
        "print(\"Copying test files...\")\n",
        "test_copied = copy_files(test_files, \"test\")\n",
        "assert test_copied == test_count, f\"Expected {test_count} files, but only {test_copied} were copied to test.\""
      ],
      "metadata": {
        "colab": {
          "base_uri": "https://localhost:8080/"
        },
        "id": "lav_sjRSSIUM",
        "outputId": "ae127f76-2af5-4620-a004-4b38a85722f6"
      },
      "execution_count": 12,
      "outputs": [
        {
          "output_type": "stream",
          "name": "stdout",
          "text": [
            "Copying test files...\n"
          ]
        }
      ]
    },
    {
      "cell_type": "code",
      "source": [
        "# Final verification summary\n",
        "print(\"\\nVerification Summary:\")\n",
        "print(f\"Train files copied: {train_copied}/{train_count}\")\n",
        "print(f\"Validation files copied: {val_copied}/{val_count}\")\n",
        "print(f\"Test files copied: {test_copied}/{test_count}\")\n",
        "print(\"File distribution completed successfully!\")"
      ],
      "metadata": {
        "colab": {
          "base_uri": "https://localhost:8080/"
        },
        "id": "saFUM-pYSKbU",
        "outputId": "ed2a6b9a-994a-40e6-f242-0b3e0c403739"
      },
      "execution_count": 13,
      "outputs": [
        {
          "output_type": "stream",
          "name": "stdout",
          "text": [
            "\n",
            "Verification Summary:\n",
            "Train files copied: 2521/2521\n",
            "Validation files copied: 840/840\n",
            "Test files copied: 842/842\n",
            "File distribution completed successfully!\n"
          ]
        }
      ]
    }
  ]
}