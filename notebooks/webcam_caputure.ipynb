{
  "nbformat": 4,
  "nbformat_minor": 0,
  "metadata": {
    "colab": {
      "provenance": [],
      "mount_file_id": "19UrMFssTwyRXZKAcWCfJ40jrCjjNYBrS",
      "authorship_tag": "ABX9TyN7c9gGg9LIly8+yA+b/BH5",
      "include_colab_link": true
    },
    "kernelspec": {
      "name": "python3",
      "display_name": "Python 3"
    },
    "language_info": {
      "name": "python"
    }
  },
  "cells": [
    {
      "cell_type": "markdown",
      "metadata": {
        "id": "view-in-github",
        "colab_type": "text"
      },
      "source": [
        "<a href=\"https://colab.research.google.com/github/Takosaga/ai_group_project/blob/main/notebooks/webcam_caputure.ipynb\" target=\"_parent\"><img src=\"https://colab.research.google.com/assets/colab-badge.svg\" alt=\"Open In Colab\"/></a>"
      ]
    },
    {
      "cell_type": "code",
      "execution_count": 1,
      "metadata": {
        "colab": {
          "base_uri": "https://localhost:8080/"
        },
        "id": "uO-hamOrt8f6",
        "outputId": "d34a5326-013f-4bf0-a072-8138ff177c32"
      },
      "outputs": [
        {
          "output_type": "stream",
          "name": "stdout",
          "text": [
            "Collecting ffmpeg-python\n",
            "  Downloading ffmpeg_python-0.2.0-py3-none-any.whl.metadata (1.7 kB)\n",
            "Requirement already satisfied: future in /usr/local/lib/python3.10/dist-packages (from ffmpeg-python) (1.0.0)\n",
            "Downloading ffmpeg_python-0.2.0-py3-none-any.whl (25 kB)\n",
            "Installing collected packages: ffmpeg-python\n",
            "Successfully installed ffmpeg-python-0.2.0\n",
            "Reading package lists... Done\n",
            "Building dependency tree... Done\n",
            "Reading state information... Done\n",
            "ffmpeg is already the newest version (7:4.4.2-0ubuntu0.22.04.1).\n",
            "0 upgraded, 0 newly installed, 0 to remove and 49 not upgraded.\n"
          ]
        }
      ],
      "source": [
        "!pip install ffmpeg-python\n",
        "!apt-get install -y ffmpeg"
      ]
    },
    {
      "cell_type": "code",
      "source": [
        "import subprocess\n",
        "import time\n",
        "from datetime import datetime\n",
        "import os"
      ],
      "metadata": {
        "id": "_jVkMr4O8IT5"
      },
      "execution_count": 8,
      "outputs": []
    },
    {
      "cell_type": "code",
      "source": [
        "# HLS (m3u8) stream URL with token\n",
        "stream_url = \"https://edge01.balticlivecam.com/blc/centralTirgus/tracks-v1/mono.m3u8?token=88ad9ecfef4682b19c5fa0e2e5798f89%3A1731336566444\"\n",
        "\n",
        "# Destination folder\n",
        "destination_folder = \"/content/drive/MyDrive/Colab Notebooks/content\"\n",
        "\n",
        "# Ensure the destination folder exists\n",
        "os.makedirs(destination_folder, exist_ok=True)\n",
        "\n",
        "def capture_frames():\n",
        "    while True:\n",
        "        # Set the output filename with timestamp in the destination folder\n",
        "        date = datetime.now().strftime(\"%Y%m%d_%H%M%S\")\n",
        "        filename = os.path.join(destination_folder, f\"frame_{date}.jpg\")\n",
        "\n",
        "        # Construct the ffmpeg command with headers\n",
        "        command = [\n",
        "            'ffmpeg',\n",
        "            '-headers', 'User-Agent: VLC/3.0.11 (Linux; Android 9; SM-G960F Build/PPR1.180610.011)',\n",
        "            '-headers', 'Referer: https://balticlivecam.com',\n",
        "            '-i', stream_url,\n",
        "            '-frames:v', '1',  # Capture only one frame\n",
        "            filename\n",
        "        ]\n",
        "\n",
        "        try:\n",
        "            # Run the command\n",
        "            subprocess.run(command, check=True, capture_output=True)\n",
        "            print(f\"Saved {filename}\")\n",
        "        except subprocess.CalledProcessError as e:\n",
        "            print(\"Error capturing frame:\", e.stderr.decode())\n",
        "            break\n",
        "\n",
        "        # Wait for 15 seconds before capturing the next frame\n",
        "        time.sleep(15)\n",
        "\n",
        "# Start continuous frame capture\n",
        "capture_frames()\n"
      ],
      "metadata": {
        "colab": {
          "base_uri": "https://localhost:8080/",
          "height": 1000
        },
        "id": "jrlYQLTf8Glb",
        "outputId": "e6a271cd-4132-43f5-f2a1-22bb77120ceb"
      },
      "execution_count": 9,
      "outputs": [
        {
          "output_type": "stream",
          "name": "stdout",
          "text": [
            "Saved /content/drive/MyDrive/Colab Notebooks/content/frame_20241111_155617.jpg\n",
            "Saved /content/drive/MyDrive/Colab Notebooks/content/frame_20241111_155635.jpg\n",
            "Saved /content/drive/MyDrive/Colab Notebooks/content/frame_20241111_155653.jpg\n",
            "Saved /content/drive/MyDrive/Colab Notebooks/content/frame_20241111_155711.jpg\n",
            "Saved /content/drive/MyDrive/Colab Notebooks/content/frame_20241111_155729.jpg\n",
            "Saved /content/drive/MyDrive/Colab Notebooks/content/frame_20241111_155747.jpg\n",
            "Saved /content/drive/MyDrive/Colab Notebooks/content/frame_20241111_155805.jpg\n",
            "Saved /content/drive/MyDrive/Colab Notebooks/content/frame_20241111_155822.jpg\n",
            "Saved /content/drive/MyDrive/Colab Notebooks/content/frame_20241111_155840.jpg\n",
            "Saved /content/drive/MyDrive/Colab Notebooks/content/frame_20241111_155858.jpg\n",
            "Saved /content/drive/MyDrive/Colab Notebooks/content/frame_20241111_155916.jpg\n",
            "Saved /content/drive/MyDrive/Colab Notebooks/content/frame_20241111_155934.jpg\n",
            "Saved /content/drive/MyDrive/Colab Notebooks/content/frame_20241111_155952.jpg\n",
            "Saved /content/drive/MyDrive/Colab Notebooks/content/frame_20241111_160010.jpg\n",
            "Saved /content/drive/MyDrive/Colab Notebooks/content/frame_20241111_160028.jpg\n",
            "Saved /content/drive/MyDrive/Colab Notebooks/content/frame_20241111_160046.jpg\n",
            "Saved /content/drive/MyDrive/Colab Notebooks/content/frame_20241111_160103.jpg\n",
            "Saved /content/drive/MyDrive/Colab Notebooks/content/frame_20241111_160121.jpg\n",
            "Saved /content/drive/MyDrive/Colab Notebooks/content/frame_20241111_160139.jpg\n",
            "Saved /content/drive/MyDrive/Colab Notebooks/content/frame_20241111_160157.jpg\n",
            "Saved /content/drive/MyDrive/Colab Notebooks/content/frame_20241111_160215.jpg\n",
            "Saved /content/drive/MyDrive/Colab Notebooks/content/frame_20241111_160233.jpg\n",
            "Saved /content/drive/MyDrive/Colab Notebooks/content/frame_20241111_160251.jpg\n",
            "Saved /content/drive/MyDrive/Colab Notebooks/content/frame_20241111_160309.jpg\n",
            "Saved /content/drive/MyDrive/Colab Notebooks/content/frame_20241111_160327.jpg\n",
            "Saved /content/drive/MyDrive/Colab Notebooks/content/frame_20241111_160344.jpg\n",
            "Saved /content/drive/MyDrive/Colab Notebooks/content/frame_20241111_160402.jpg\n",
            "Saved /content/drive/MyDrive/Colab Notebooks/content/frame_20241111_160420.jpg\n",
            "Saved /content/drive/MyDrive/Colab Notebooks/content/frame_20241111_160438.jpg\n",
            "Saved /content/drive/MyDrive/Colab Notebooks/content/frame_20241111_160456.jpg\n",
            "Saved /content/drive/MyDrive/Colab Notebooks/content/frame_20241111_160514.jpg\n",
            "Saved /content/drive/MyDrive/Colab Notebooks/content/frame_20241111_160532.jpg\n",
            "Saved /content/drive/MyDrive/Colab Notebooks/content/frame_20241111_160550.jpg\n",
            "Saved /content/drive/MyDrive/Colab Notebooks/content/frame_20241111_160608.jpg\n",
            "Saved /content/drive/MyDrive/Colab Notebooks/content/frame_20241111_160626.jpg\n",
            "Saved /content/drive/MyDrive/Colab Notebooks/content/frame_20241111_160644.jpg\n",
            "Saved /content/drive/MyDrive/Colab Notebooks/content/frame_20241111_160702.jpg\n",
            "Saved /content/drive/MyDrive/Colab Notebooks/content/frame_20241111_160720.jpg\n",
            "Saved /content/drive/MyDrive/Colab Notebooks/content/frame_20241111_160737.jpg\n",
            "Saved /content/drive/MyDrive/Colab Notebooks/content/frame_20241111_160755.jpg\n",
            "Saved /content/drive/MyDrive/Colab Notebooks/content/frame_20241111_160813.jpg\n",
            "Saved /content/drive/MyDrive/Colab Notebooks/content/frame_20241111_160831.jpg\n",
            "Saved /content/drive/MyDrive/Colab Notebooks/content/frame_20241111_160849.jpg\n",
            "Saved /content/drive/MyDrive/Colab Notebooks/content/frame_20241111_160907.jpg\n",
            "Saved /content/drive/MyDrive/Colab Notebooks/content/frame_20241111_160925.jpg\n",
            "Saved /content/drive/MyDrive/Colab Notebooks/content/frame_20241111_160943.jpg\n",
            "Saved /content/drive/MyDrive/Colab Notebooks/content/frame_20241111_161001.jpg\n",
            "Saved /content/drive/MyDrive/Colab Notebooks/content/frame_20241111_161019.jpg\n",
            "Saved /content/drive/MyDrive/Colab Notebooks/content/frame_20241111_161036.jpg\n",
            "Saved /content/drive/MyDrive/Colab Notebooks/content/frame_20241111_161054.jpg\n",
            "Saved /content/drive/MyDrive/Colab Notebooks/content/frame_20241111_161112.jpg\n",
            "Saved /content/drive/MyDrive/Colab Notebooks/content/frame_20241111_161130.jpg\n",
            "Saved /content/drive/MyDrive/Colab Notebooks/content/frame_20241111_161148.jpg\n",
            "Saved /content/drive/MyDrive/Colab Notebooks/content/frame_20241111_161206.jpg\n",
            "Saved /content/drive/MyDrive/Colab Notebooks/content/frame_20241111_161224.jpg\n",
            "Saved /content/drive/MyDrive/Colab Notebooks/content/frame_20241111_161242.jpg\n",
            "Saved /content/drive/MyDrive/Colab Notebooks/content/frame_20241111_161259.jpg\n",
            "Saved /content/drive/MyDrive/Colab Notebooks/content/frame_20241111_161317.jpg\n",
            "Saved /content/drive/MyDrive/Colab Notebooks/content/frame_20241111_161335.jpg\n",
            "Saved /content/drive/MyDrive/Colab Notebooks/content/frame_20241111_161353.jpg\n",
            "Saved /content/drive/MyDrive/Colab Notebooks/content/frame_20241111_161411.jpg\n",
            "Saved /content/drive/MyDrive/Colab Notebooks/content/frame_20241111_161429.jpg\n",
            "Saved /content/drive/MyDrive/Colab Notebooks/content/frame_20241111_161447.jpg\n",
            "Saved /content/drive/MyDrive/Colab Notebooks/content/frame_20241111_161505.jpg\n",
            "Saved /content/drive/MyDrive/Colab Notebooks/content/frame_20241111_161523.jpg\n",
            "Saved /content/drive/MyDrive/Colab Notebooks/content/frame_20241111_161540.jpg\n",
            "Saved /content/drive/MyDrive/Colab Notebooks/content/frame_20241111_161558.jpg\n",
            "Saved /content/drive/MyDrive/Colab Notebooks/content/frame_20241111_161616.jpg\n",
            "Saved /content/drive/MyDrive/Colab Notebooks/content/frame_20241111_161634.jpg\n",
            "Saved /content/drive/MyDrive/Colab Notebooks/content/frame_20241111_161652.jpg\n",
            "Saved /content/drive/MyDrive/Colab Notebooks/content/frame_20241111_161710.jpg\n",
            "Saved /content/drive/MyDrive/Colab Notebooks/content/frame_20241111_161728.jpg\n",
            "Saved /content/drive/MyDrive/Colab Notebooks/content/frame_20241111_161746.jpg\n",
            "Saved /content/drive/MyDrive/Colab Notebooks/content/frame_20241111_161804.jpg\n",
            "Saved /content/drive/MyDrive/Colab Notebooks/content/frame_20241111_161822.jpg\n",
            "Saved /content/drive/MyDrive/Colab Notebooks/content/frame_20241111_161840.jpg\n",
            "Saved /content/drive/MyDrive/Colab Notebooks/content/frame_20241111_161857.jpg\n",
            "Saved /content/drive/MyDrive/Colab Notebooks/content/frame_20241111_161915.jpg\n",
            "Saved /content/drive/MyDrive/Colab Notebooks/content/frame_20241111_161934.jpg\n",
            "Saved /content/drive/MyDrive/Colab Notebooks/content/frame_20241111_161951.jpg\n",
            "Saved /content/drive/MyDrive/Colab Notebooks/content/frame_20241111_162009.jpg\n",
            "Saved /content/drive/MyDrive/Colab Notebooks/content/frame_20241111_162027.jpg\n",
            "Saved /content/drive/MyDrive/Colab Notebooks/content/frame_20241111_162045.jpg\n",
            "Saved /content/drive/MyDrive/Colab Notebooks/content/frame_20241111_162103.jpg\n",
            "Saved /content/drive/MyDrive/Colab Notebooks/content/frame_20241111_162121.jpg\n",
            "Saved /content/drive/MyDrive/Colab Notebooks/content/frame_20241111_162138.jpg\n",
            "Saved /content/drive/MyDrive/Colab Notebooks/content/frame_20241111_162156.jpg\n",
            "Saved /content/drive/MyDrive/Colab Notebooks/content/frame_20241111_162214.jpg\n",
            "Saved /content/drive/MyDrive/Colab Notebooks/content/frame_20241111_162232.jpg\n",
            "Saved /content/drive/MyDrive/Colab Notebooks/content/frame_20241111_162250.jpg\n",
            "Saved /content/drive/MyDrive/Colab Notebooks/content/frame_20241111_162308.jpg\n",
            "Saved /content/drive/MyDrive/Colab Notebooks/content/frame_20241111_162326.jpg\n",
            "Saved /content/drive/MyDrive/Colab Notebooks/content/frame_20241111_162344.jpg\n",
            "Saved /content/drive/MyDrive/Colab Notebooks/content/frame_20241111_162402.jpg\n",
            "Saved /content/drive/MyDrive/Colab Notebooks/content/frame_20241111_162420.jpg\n",
            "Saved /content/drive/MyDrive/Colab Notebooks/content/frame_20241111_162438.jpg\n",
            "Saved /content/drive/MyDrive/Colab Notebooks/content/frame_20241111_162456.jpg\n",
            "Saved /content/drive/MyDrive/Colab Notebooks/content/frame_20241111_162513.jpg\n",
            "Saved /content/drive/MyDrive/Colab Notebooks/content/frame_20241111_162532.jpg\n",
            "Saved /content/drive/MyDrive/Colab Notebooks/content/frame_20241111_162550.jpg\n",
            "Saved /content/drive/MyDrive/Colab Notebooks/content/frame_20241111_162607.jpg\n",
            "Saved /content/drive/MyDrive/Colab Notebooks/content/frame_20241111_162625.jpg\n",
            "Saved /content/drive/MyDrive/Colab Notebooks/content/frame_20241111_162643.jpg\n",
            "Saved /content/drive/MyDrive/Colab Notebooks/content/frame_20241111_162701.jpg\n",
            "Saved /content/drive/MyDrive/Colab Notebooks/content/frame_20241111_162719.jpg\n",
            "Saved /content/drive/MyDrive/Colab Notebooks/content/frame_20241111_162737.jpg\n",
            "Saved /content/drive/MyDrive/Colab Notebooks/content/frame_20241111_162755.jpg\n",
            "Saved /content/drive/MyDrive/Colab Notebooks/content/frame_20241111_162813.jpg\n",
            "Saved /content/drive/MyDrive/Colab Notebooks/content/frame_20241111_162831.jpg\n",
            "Saved /content/drive/MyDrive/Colab Notebooks/content/frame_20241111_162850.jpg\n",
            "Saved /content/drive/MyDrive/Colab Notebooks/content/frame_20241111_162908.jpg\n",
            "Saved /content/drive/MyDrive/Colab Notebooks/content/frame_20241111_162926.jpg\n",
            "Saved /content/drive/MyDrive/Colab Notebooks/content/frame_20241111_162944.jpg\n",
            "Saved /content/drive/MyDrive/Colab Notebooks/content/frame_20241111_163002.jpg\n",
            "Saved /content/drive/MyDrive/Colab Notebooks/content/frame_20241111_163020.jpg\n",
            "Saved /content/drive/MyDrive/Colab Notebooks/content/frame_20241111_163037.jpg\n",
            "Saved /content/drive/MyDrive/Colab Notebooks/content/frame_20241111_163055.jpg\n",
            "Saved /content/drive/MyDrive/Colab Notebooks/content/frame_20241111_163113.jpg\n",
            "Saved /content/drive/MyDrive/Colab Notebooks/content/frame_20241111_163131.jpg\n",
            "Saved /content/drive/MyDrive/Colab Notebooks/content/frame_20241111_163149.jpg\n",
            "Saved /content/drive/MyDrive/Colab Notebooks/content/frame_20241111_163207.jpg\n",
            "Saved /content/drive/MyDrive/Colab Notebooks/content/frame_20241111_163225.jpg\n",
            "Saved /content/drive/MyDrive/Colab Notebooks/content/frame_20241111_163243.jpg\n",
            "Saved /content/drive/MyDrive/Colab Notebooks/content/frame_20241111_163301.jpg\n"
          ]
        },
        {
          "output_type": "error",
          "ename": "KeyboardInterrupt",
          "evalue": "",
          "traceback": [
            "\u001b[0;31m---------------------------------------------------------------------------\u001b[0m",
            "\u001b[0;31mKeyboardInterrupt\u001b[0m                         Traceback (most recent call last)",
            "\u001b[0;32m<ipython-input-9-88f721ed44fc>\u001b[0m in \u001b[0;36m<cell line: 38>\u001b[0;34m()\u001b[0m\n\u001b[1;32m     36\u001b[0m \u001b[0;34m\u001b[0m\u001b[0m\n\u001b[1;32m     37\u001b[0m \u001b[0;31m# Start continuous frame capture\u001b[0m\u001b[0;34m\u001b[0m\u001b[0;34m\u001b[0m\u001b[0m\n\u001b[0;32m---> 38\u001b[0;31m \u001b[0mcapture_frames\u001b[0m\u001b[0;34m(\u001b[0m\u001b[0;34m)\u001b[0m\u001b[0;34m\u001b[0m\u001b[0;34m\u001b[0m\u001b[0m\n\u001b[0m",
            "\u001b[0;32m<ipython-input-9-88f721ed44fc>\u001b[0m in \u001b[0;36mcapture_frames\u001b[0;34m()\u001b[0m\n\u001b[1;32m     26\u001b[0m         \u001b[0;32mtry\u001b[0m\u001b[0;34m:\u001b[0m\u001b[0;34m\u001b[0m\u001b[0;34m\u001b[0m\u001b[0m\n\u001b[1;32m     27\u001b[0m             \u001b[0;31m# Run the command\u001b[0m\u001b[0;34m\u001b[0m\u001b[0;34m\u001b[0m\u001b[0m\n\u001b[0;32m---> 28\u001b[0;31m             \u001b[0msubprocess\u001b[0m\u001b[0;34m.\u001b[0m\u001b[0mrun\u001b[0m\u001b[0;34m(\u001b[0m\u001b[0mcommand\u001b[0m\u001b[0;34m,\u001b[0m \u001b[0mcheck\u001b[0m\u001b[0;34m=\u001b[0m\u001b[0;32mTrue\u001b[0m\u001b[0;34m,\u001b[0m \u001b[0mcapture_output\u001b[0m\u001b[0;34m=\u001b[0m\u001b[0;32mTrue\u001b[0m\u001b[0;34m)\u001b[0m\u001b[0;34m\u001b[0m\u001b[0;34m\u001b[0m\u001b[0m\n\u001b[0m\u001b[1;32m     29\u001b[0m             \u001b[0mprint\u001b[0m\u001b[0;34m(\u001b[0m\u001b[0;34mf\"Saved {filename}\"\u001b[0m\u001b[0;34m)\u001b[0m\u001b[0;34m\u001b[0m\u001b[0;34m\u001b[0m\u001b[0m\n\u001b[1;32m     30\u001b[0m         \u001b[0;32mexcept\u001b[0m \u001b[0msubprocess\u001b[0m\u001b[0;34m.\u001b[0m\u001b[0mCalledProcessError\u001b[0m \u001b[0;32mas\u001b[0m \u001b[0me\u001b[0m\u001b[0;34m:\u001b[0m\u001b[0;34m\u001b[0m\u001b[0;34m\u001b[0m\u001b[0m\n",
            "\u001b[0;32m/usr/lib/python3.10/subprocess.py\u001b[0m in \u001b[0;36mrun\u001b[0;34m(input, capture_output, timeout, check, *popenargs, **kwargs)\u001b[0m\n\u001b[1;32m    503\u001b[0m     \u001b[0;32mwith\u001b[0m \u001b[0mPopen\u001b[0m\u001b[0;34m(\u001b[0m\u001b[0;34m*\u001b[0m\u001b[0mpopenargs\u001b[0m\u001b[0;34m,\u001b[0m \u001b[0;34m**\u001b[0m\u001b[0mkwargs\u001b[0m\u001b[0;34m)\u001b[0m \u001b[0;32mas\u001b[0m \u001b[0mprocess\u001b[0m\u001b[0;34m:\u001b[0m\u001b[0;34m\u001b[0m\u001b[0;34m\u001b[0m\u001b[0m\n\u001b[1;32m    504\u001b[0m         \u001b[0;32mtry\u001b[0m\u001b[0;34m:\u001b[0m\u001b[0;34m\u001b[0m\u001b[0;34m\u001b[0m\u001b[0m\n\u001b[0;32m--> 505\u001b[0;31m             \u001b[0mstdout\u001b[0m\u001b[0;34m,\u001b[0m \u001b[0mstderr\u001b[0m \u001b[0;34m=\u001b[0m \u001b[0mprocess\u001b[0m\u001b[0;34m.\u001b[0m\u001b[0mcommunicate\u001b[0m\u001b[0;34m(\u001b[0m\u001b[0minput\u001b[0m\u001b[0;34m,\u001b[0m \u001b[0mtimeout\u001b[0m\u001b[0;34m=\u001b[0m\u001b[0mtimeout\u001b[0m\u001b[0;34m)\u001b[0m\u001b[0;34m\u001b[0m\u001b[0;34m\u001b[0m\u001b[0m\n\u001b[0m\u001b[1;32m    506\u001b[0m         \u001b[0;32mexcept\u001b[0m \u001b[0mTimeoutExpired\u001b[0m \u001b[0;32mas\u001b[0m \u001b[0mexc\u001b[0m\u001b[0;34m:\u001b[0m\u001b[0;34m\u001b[0m\u001b[0;34m\u001b[0m\u001b[0m\n\u001b[1;32m    507\u001b[0m             \u001b[0mprocess\u001b[0m\u001b[0;34m.\u001b[0m\u001b[0mkill\u001b[0m\u001b[0;34m(\u001b[0m\u001b[0;34m)\u001b[0m\u001b[0;34m\u001b[0m\u001b[0;34m\u001b[0m\u001b[0m\n",
            "\u001b[0;32m/usr/lib/python3.10/subprocess.py\u001b[0m in \u001b[0;36mcommunicate\u001b[0;34m(self, input, timeout)\u001b[0m\n\u001b[1;32m   1152\u001b[0m \u001b[0;34m\u001b[0m\u001b[0m\n\u001b[1;32m   1153\u001b[0m             \u001b[0;32mtry\u001b[0m\u001b[0;34m:\u001b[0m\u001b[0;34m\u001b[0m\u001b[0;34m\u001b[0m\u001b[0m\n\u001b[0;32m-> 1154\u001b[0;31m                 \u001b[0mstdout\u001b[0m\u001b[0;34m,\u001b[0m \u001b[0mstderr\u001b[0m \u001b[0;34m=\u001b[0m \u001b[0mself\u001b[0m\u001b[0;34m.\u001b[0m\u001b[0m_communicate\u001b[0m\u001b[0;34m(\u001b[0m\u001b[0minput\u001b[0m\u001b[0;34m,\u001b[0m \u001b[0mendtime\u001b[0m\u001b[0;34m,\u001b[0m \u001b[0mtimeout\u001b[0m\u001b[0;34m)\u001b[0m\u001b[0;34m\u001b[0m\u001b[0;34m\u001b[0m\u001b[0m\n\u001b[0m\u001b[1;32m   1155\u001b[0m             \u001b[0;32mexcept\u001b[0m \u001b[0mKeyboardInterrupt\u001b[0m\u001b[0;34m:\u001b[0m\u001b[0;34m\u001b[0m\u001b[0;34m\u001b[0m\u001b[0m\n\u001b[1;32m   1156\u001b[0m                 \u001b[0;31m# https://bugs.python.org/issue25942\u001b[0m\u001b[0;34m\u001b[0m\u001b[0;34m\u001b[0m\u001b[0m\n",
            "\u001b[0;32m/usr/lib/python3.10/subprocess.py\u001b[0m in \u001b[0;36m_communicate\u001b[0;34m(self, input, endtime, orig_timeout)\u001b[0m\n\u001b[1;32m   2019\u001b[0m                             'failed to raise TimeoutExpired.')\n\u001b[1;32m   2020\u001b[0m \u001b[0;34m\u001b[0m\u001b[0m\n\u001b[0;32m-> 2021\u001b[0;31m                     \u001b[0mready\u001b[0m \u001b[0;34m=\u001b[0m \u001b[0mselector\u001b[0m\u001b[0;34m.\u001b[0m\u001b[0mselect\u001b[0m\u001b[0;34m(\u001b[0m\u001b[0mtimeout\u001b[0m\u001b[0;34m)\u001b[0m\u001b[0;34m\u001b[0m\u001b[0;34m\u001b[0m\u001b[0m\n\u001b[0m\u001b[1;32m   2022\u001b[0m                     \u001b[0mself\u001b[0m\u001b[0;34m.\u001b[0m\u001b[0m_check_timeout\u001b[0m\u001b[0;34m(\u001b[0m\u001b[0mendtime\u001b[0m\u001b[0;34m,\u001b[0m \u001b[0morig_timeout\u001b[0m\u001b[0;34m,\u001b[0m \u001b[0mstdout\u001b[0m\u001b[0;34m,\u001b[0m \u001b[0mstderr\u001b[0m\u001b[0;34m)\u001b[0m\u001b[0;34m\u001b[0m\u001b[0;34m\u001b[0m\u001b[0m\n\u001b[1;32m   2023\u001b[0m \u001b[0;34m\u001b[0m\u001b[0m\n",
            "\u001b[0;32m/usr/lib/python3.10/selectors.py\u001b[0m in \u001b[0;36mselect\u001b[0;34m(self, timeout)\u001b[0m\n\u001b[1;32m    414\u001b[0m         \u001b[0mready\u001b[0m \u001b[0;34m=\u001b[0m \u001b[0;34m[\u001b[0m\u001b[0;34m]\u001b[0m\u001b[0;34m\u001b[0m\u001b[0;34m\u001b[0m\u001b[0m\n\u001b[1;32m    415\u001b[0m         \u001b[0;32mtry\u001b[0m\u001b[0;34m:\u001b[0m\u001b[0;34m\u001b[0m\u001b[0;34m\u001b[0m\u001b[0m\n\u001b[0;32m--> 416\u001b[0;31m             \u001b[0mfd_event_list\u001b[0m \u001b[0;34m=\u001b[0m \u001b[0mself\u001b[0m\u001b[0;34m.\u001b[0m\u001b[0m_selector\u001b[0m\u001b[0;34m.\u001b[0m\u001b[0mpoll\u001b[0m\u001b[0;34m(\u001b[0m\u001b[0mtimeout\u001b[0m\u001b[0;34m)\u001b[0m\u001b[0;34m\u001b[0m\u001b[0;34m\u001b[0m\u001b[0m\n\u001b[0m\u001b[1;32m    417\u001b[0m         \u001b[0;32mexcept\u001b[0m \u001b[0mInterruptedError\u001b[0m\u001b[0;34m:\u001b[0m\u001b[0;34m\u001b[0m\u001b[0;34m\u001b[0m\u001b[0m\n\u001b[1;32m    418\u001b[0m             \u001b[0;32mreturn\u001b[0m \u001b[0mready\u001b[0m\u001b[0;34m\u001b[0m\u001b[0;34m\u001b[0m\u001b[0m\n",
            "\u001b[0;31mKeyboardInterrupt\u001b[0m: "
          ]
        }
      ]
    }
  ]
}